{
 "cells": [
  {
   "cell_type": "markdown",
   "id": "8303cea3",
   "metadata": {},
   "source": [
    "# Siemens Consolidated Income Statement\n",
    "<font size='4' color='blue'>Course: Diploma in Predictive Data Analytics</font>\n",
    "\n",
    "<font color='blue'>\n",
    "<br/>\n",
    "By Hossein Yazdi\n",
    "<br/>\n",
    "</font>\n",
    "\n"
   ]
  },
  {
   "cell_type": "markdown",
   "id": "af654ff4",
   "metadata": {},
   "source": [
    "## Introduction Background to the data set\n",
    "\n",
    "<br>\n",
    "<font size='2' color='gray'>\n",
    "About Siemens: \n",
    "    \n",
    "    Organization of the Siemens Group and basis of presentation: \n",
    "    Siemens is a technology company that is active in nearly all countries of the world, focusing on the areas of automation \n",
    "    and digitalization in the process and manufacturing industries, intelligent infrastructure for buildings and distributed \n",
    "    energy systems, smart mobility solutions for rail and road and medical technology and digital healthcare services.\n",
    "    \n",
    "    Siemens comprises Siemens Aktiengesellschaft (Siemens AG), a stock corporation under the Federal laws of Germany, as the parent company and its subsidiaries. Our Company is incorporated in Germany, with our coroporate headquarters situated in Munich. As of September 30, 2020, Siemens had around 293,000 employees. (Siemens, 2022)\n",
    "    \n",
    "    To do the analysis, the annual reports 2020 and the following time period is employed, in the way to explain general features and to compute the financial ratios and features from 2020 and 2021 respectively. \n",
    "    \n",
    "    All the original files are accessible to refer to.\n",
    "    \n",
    "    Usually, the financial controlling are done based on three preliminary source documents; journals, ledger, trial balance, and five financial statements including  Income Statement, statement of retained earnings, statement of changes in equity, statement of financial position (Balance Sheet), and finally, Cash Flow Statement. (Siemens A, 2022)\n",
    "    \n",
    "    This Project is going to apply all of them.\n",
    "</font>\n"
   ]
  },
  {
   "cell_type": "code",
   "execution_count": 1,
   "id": "79053079",
   "metadata": {},
   "outputs": [],
   "source": [
    "# At the first step by using the dictionary, importing pandas library, and applying dataframe command,\n",
    "# the Siemens Financial Framework is provided.\n",
    "# Step 1: importing the pandas library.\n",
    "import pandas as pd"
   ]
  },
  {
   "cell_type": "code",
   "execution_count": 2,
   "id": "a8400ac8",
   "metadata": {},
   "outputs": [],
   "source": [
    "# Step 2: Producing the dictionary from data of annual report 2020\n",
    "# Siemens have set the following margin ranges in our Siemens Financial Framework:\n",
    "dic_SFF = { 'Sections': ['Digital Industries', 'Smart Infrastructure', 'Mobility', 'Siemens Healthineers', ' Industrial Businesses', 'Siemens Financial Services (ROE after tax)'],\n",
    "            'Margin range': ['17 – 23%', '10 – 15%', '9 – 12%', '17 – 21%', '11 – 15%', '17 – 22%']}"
   ]
  },
  {
   "cell_type": "code",
   "execution_count": 3,
   "id": "6ed74104",
   "metadata": {},
   "outputs": [
    {
     "name": "stdout",
     "output_type": "stream",
     "text": [
      "{'Sections': ['Digital Industries', 'Smart Infrastructure', 'Mobility', 'Siemens Healthineers', ' Industrial Businesses', 'Siemens Financial Services (ROE after tax)'], 'Margin range': ['17 – 23%', '10 – 15%', '9 – 12%', '17 – 21%', '11 – 15%', '17 – 22%']}\n"
     ]
    }
   ],
   "source": [
    "# Test the dictionary\n",
    "\n",
    "print(dic_SFF)"
   ]
  },
  {
   "cell_type": "code",
   "execution_count": 4,
   "id": "cf32e455",
   "metadata": {},
   "outputs": [
    {
     "data": {
      "text/html": [
       "<div>\n",
       "<style scoped>\n",
       "    .dataframe tbody tr th:only-of-type {\n",
       "        vertical-align: middle;\n",
       "    }\n",
       "\n",
       "    .dataframe tbody tr th {\n",
       "        vertical-align: top;\n",
       "    }\n",
       "\n",
       "    .dataframe thead th {\n",
       "        text-align: right;\n",
       "    }\n",
       "</style>\n",
       "<table border=\"1\" class=\"dataframe\">\n",
       "  <thead>\n",
       "    <tr style=\"text-align: right;\">\n",
       "      <th></th>\n",
       "      <th>Sections</th>\n",
       "      <th>Margin range</th>\n",
       "    </tr>\n",
       "  </thead>\n",
       "  <tbody>\n",
       "    <tr>\n",
       "      <th>0</th>\n",
       "      <td>Digital Industries</td>\n",
       "      <td>17 – 23%</td>\n",
       "    </tr>\n",
       "    <tr>\n",
       "      <th>1</th>\n",
       "      <td>Smart Infrastructure</td>\n",
       "      <td>10 – 15%</td>\n",
       "    </tr>\n",
       "    <tr>\n",
       "      <th>2</th>\n",
       "      <td>Mobility</td>\n",
       "      <td>9 – 12%</td>\n",
       "    </tr>\n",
       "    <tr>\n",
       "      <th>3</th>\n",
       "      <td>Siemens Healthineers</td>\n",
       "      <td>17 – 21%</td>\n",
       "    </tr>\n",
       "    <tr>\n",
       "      <th>4</th>\n",
       "      <td>Industrial Businesses</td>\n",
       "      <td>11 – 15%</td>\n",
       "    </tr>\n",
       "    <tr>\n",
       "      <th>5</th>\n",
       "      <td>Siemens Financial Services (ROE after tax)</td>\n",
       "      <td>17 – 22%</td>\n",
       "    </tr>\n",
       "  </tbody>\n",
       "</table>\n",
       "</div>"
      ],
      "text/plain": [
       "                                     Sections Margin range\n",
       "0                          Digital Industries     17 – 23%\n",
       "1                        Smart Infrastructure     10 – 15%\n",
       "2                                    Mobility      9 – 12%\n",
       "3                        Siemens Healthineers     17 – 21%\n",
       "4                       Industrial Businesses     11 – 15%\n",
       "5  Siemens Financial Services (ROE after tax)     17 – 22%"
      ]
     },
     "execution_count": 4,
     "metadata": {},
     "output_type": "execute_result"
    }
   ],
   "source": [
    "# Providing the table by use of dataframe code\n",
    "# The data for this table, the Siemens Financial Framework, comes from the annual report of 2020.\n",
    "\n",
    "df_SFF = pd.DataFrame(dic_SFF)\n",
    "\n",
    "df_SFF"
   ]
  },
  {
   "cell_type": "markdown",
   "id": "82aeedb7",
   "metadata": {},
   "source": [
    "### PDA: Predictive Data Analytics:\n",
    "<br/>\n",
    "<font size='2' color='gray'>\n",
    "Predictive analytics is a branch of advanced analytics that makes predictions about future outcomes using historical data combined with statistical modeling, data mining techniques and machine learning. Companies employ predictive analytics to find patterns in this data to identify risks and opportunities. \n",
    "\n",
    "Predictive analytics is often associated with big data and data science. Companies today are swimming in data that resides across transactional databases, equipment log files, images, video, sensors or other data sources. To gain insights from this data, data scientists use deep learning and machine learning algorithms to find patterns and make predictions about future events. These include linear and nonlinear regression, neural networks, support vector machines and decision trees. Learnings obtained through predictive analytics can then be used further within prescriptive analytics to drive actions based on predictive insights.(ibm, 2022)\n",
    "\n",
    "\n",
    "</font>"
   ]
  },
  {
   "cell_type": "code",
   "execution_count": 35,
   "id": "3abb9554",
   "metadata": {
    "scrolled": true
   },
   "outputs": [
    {
     "name": "stdout",
     "output_type": "stream",
     "text": [
      "      Consolidated Statements of Income Q2 First half                  .1  \\\n",
      "0           (in millions of € per share amounts in €)   FY 2021   FY 2020   \n",
      "1                                             Revenue     14665     13784   \n",
      "2                                       Cost of sales     -9426     -8771   \n",
      "3                                        Gross profit      5239      5013   \n",
      "4                   Research and development expenses     -1128     -1159   \n",
      "5         Selling and general administrative expenses     -2562     -2649   \n",
      "6                              Other operating income        27        74   \n",
      "7                            Other operating expenses      -102       -57   \n",
      "8   Income (loss) from investments accounted for u...       -29        -3   \n",
      "9                                     Interest income       348       488   \n",
      "10                                  Interest expenses      -164      -312   \n",
      "11              Other financial income (expenses) net       355      -107   \n",
      "12  Income from continuing operations before incom...      1984      1287   \n",
      "13                                Income tax expenses      -468      -296   \n",
      "14                  Income from continuing operations      1516       992   \n",
      "15  Income (loss) from discontinued operations net...       874      -295   \n",
      "16                                         Net income      2390       697   \n",
      "17                                   Attributable to:       NaN       NaN   \n",
      "18                          Non-controlling interests       125        44   \n",
      "19                         Shareholders of Siemens AG      2265       652   \n",
      "20                           Basic earnings per share       NaN       NaN   \n",
      "21                  Income from continuing operations      1.73      1.15   \n",
      "22         Income (loss) from discontinued operations      1.09     -0.34   \n",
      "23                                         Net income      2.82       0.8   \n",
      "24                         Diluted earnings per share       NaN       NaN   \n",
      "25                  Income from continuing operations      1.71      1.13   \n",
      "26         Income (loss) from discontinued operations      1.08     -0.34   \n",
      "27                                         Net income      2.79      0.79   \n",
      "\n",
      "          .2        .3  \n",
      "0    FY 2021   FY 2020  \n",
      "1      28736     27459  \n",
      "2     -18177    -17459  \n",
      "3      10558     10000  \n",
      "4      -2192     -2283  \n",
      "5      -5021     -5489  \n",
      "6        149       329  \n",
      "7       -282      -163  \n",
      "8        -70        42  \n",
      "9        707       831  \n",
      "10      -330      -454  \n",
      "11       429       -69  \n",
      "12      3948      2744  \n",
      "13      -957      -564  \n",
      "14      2991      2179  \n",
      "15       897      -394  \n",
      "16      3888      1786  \n",
      "17       NaN       NaN  \n",
      "18       246        52  \n",
      "19      3642      1734  \n",
      "20       NaN       NaN  \n",
      "21      3.43      2.52  \n",
      "22      1.12     -0.39  \n",
      "23      4.55      2.13  \n",
      "24       NaN       NaN  \n",
      "25      3.39      2.49  \n",
      "26      1.11     -0.38  \n",
      "27      4.49      2.11  \n"
     ]
    }
   ],
   "source": [
    "# Import the Siemens' Consolidated Statements of Income (CSI) as an Excel file into Python by pd.read_csv(\"FileName.csv\")\n",
    "\n",
    "df_CSI = pd.read_csv(\"data/Siemens Consolidated Income Statement.csv\")\n",
    "\n",
    "print(df_CSI)"
   ]
  },
  {
   "cell_type": "code",
   "execution_count": 36,
   "id": "e331245d",
   "metadata": {
    "scrolled": true
   },
   "outputs": [],
   "source": [
    "# Preparation and Cleaning the table of Consolidated Statements of Income (CSI)\n",
    "\n",
    "# Changing the names of the columns to be appropriate and readable better\n",
    "df_CSI = df_CSI.rename(columns={'Consolidated Statements of Income Q2 First half':'items', ' ':'FY 2021_Q2', ' .1':'FY 2020_Q2', ' .2':'FY 2021_FH', ' .3':'FY 2020_FH'}, inplace=False)\n",
    "\n",
    "# Removing the first row as it is useless now \n",
    "\n",
    "df_CSI = df_CSI.drop(labels=range(1), axis=0, inplace=False)\n"
   ]
  },
  {
   "cell_type": "code",
   "execution_count": 37,
   "id": "590fc525",
   "metadata": {},
   "outputs": [
    {
     "data": {
      "text/plain": [
       "Index(['items', 'FY 2021_Q2', 'FY 2020_Q2', 'FY 2021_FH', 'FY 2020_FH'], dtype='object')"
      ]
     },
     "execution_count": 37,
     "metadata": {},
     "output_type": "execute_result"
    }
   ],
   "source": [
    "# So far, the columns are not timely ordered.\n",
    "df_CSI.columns"
   ]
  },
  {
   "cell_type": "markdown",
   "id": "c34e8377",
   "metadata": {},
   "source": [
    "### Vertical Analysis\n",
    "<br/>\n",
    "<font size='3' color='navy'> \n",
    "   \n",
    "Basic Criteria\n",
    "\n",
    "<br/>\n",
    "<font size='2' color='gray'>\n",
    "In Financial analysis, one of them is vertical analysis in which the analyst look up and down the data in a statement. \n",
    "So the percentage of all items based on one primary criteria is important. In our table which is income statement the key \n",
    "criteria is considered as \"Revenue\" or \"Net Income\". Therefore, its percentage is 100% and the others are computed compared to its amount. "
   ]
  },
  {
   "cell_type": "code",
   "execution_count": 38,
   "id": "75043fa7",
   "metadata": {
    "scrolled": true
   },
   "outputs": [
    {
     "name": "stdout",
     "output_type": "stream",
     "text": [
      "                                                items FY 2021_Q2 FY 2020_Q2  \\\n",
      "1                                             Revenue      14665      13784   \n",
      "2                                       Cost of sales      -9426      -8771   \n",
      "3                                        Gross profit       5239       5013   \n",
      "4                   Research and development expenses      -1128      -1159   \n",
      "5         Selling and general administrative expenses      -2562      -2649   \n",
      "6                              Other operating income         27         74   \n",
      "7                            Other operating expenses       -102        -57   \n",
      "8   Income (loss) from investments accounted for u...        -29         -3   \n",
      "9                                     Interest income        348        488   \n",
      "10                                  Interest expenses       -164       -312   \n",
      "11              Other financial income (expenses) net        355       -107   \n",
      "12  Income from continuing operations before incom...       1984       1287   \n",
      "13                                Income tax expenses       -468       -296   \n",
      "14                  Income from continuing operations       1516        992   \n",
      "15  Income (loss) from discontinued operations net...        874       -295   \n",
      "16                                         Net income       2390        697   \n",
      "17                                   Attributable to:          0          0   \n",
      "18                          Non-controlling interests        125         44   \n",
      "19                         Shareholders of Siemens AG       2265        652   \n",
      "20                           Basic earnings per share          0          0   \n",
      "21                  Income from continuing operations       1.73       1.15   \n",
      "22         Income (loss) from discontinued operations       1.09      -0.34   \n",
      "23                                         Net income       2.82        0.8   \n",
      "24                         Diluted earnings per share          0          0   \n",
      "25                  Income from continuing operations       1.71       1.13   \n",
      "26         Income (loss) from discontinued operations       1.08      -0.34   \n",
      "27                                         Net income       2.79       0.79   \n",
      "\n",
      "   FY 2021_FH FY 2020_FH  \n",
      "1       28736      27459  \n",
      "2      -18177     -17459  \n",
      "3       10558      10000  \n",
      "4       -2192      -2283  \n",
      "5       -5021      -5489  \n",
      "6         149        329  \n",
      "7        -282       -163  \n",
      "8         -70         42  \n",
      "9         707        831  \n",
      "10       -330       -454  \n",
      "11        429        -69  \n",
      "12       3948       2744  \n",
      "13       -957       -564  \n",
      "14       2991       2179  \n",
      "15        897       -394  \n",
      "16       3888       1786  \n",
      "17          0          0  \n",
      "18        246         52  \n",
      "19       3642       1734  \n",
      "20          0          0  \n",
      "21       3.43       2.52  \n",
      "22       1.12      -0.39  \n",
      "23       4.55       2.13  \n",
      "24          0          0  \n",
      "25       3.39       2.49  \n",
      "26       1.11      -0.38  \n",
      "27       4.49       2.11  \n"
     ]
    }
   ],
   "source": [
    "# Filling out the NAN values in some parts\n",
    "df_CSI = df_CSI.fillna(-1)\n",
    "\n",
    "# Replacing the values of NAN to zero as they are in fact empty values and we do not use them in our analysis\n",
    "df_CSI = df_CSI.replace(-1, 0)\n",
    "\n",
    "print(df_CSI)"
   ]
  },
  {
   "cell_type": "code",
   "execution_count": 39,
   "id": "5faecf61",
   "metadata": {},
   "outputs": [],
   "source": [
    "import numpy as np"
   ]
  },
  {
   "cell_type": "code",
   "execution_count": 40,
   "id": "eb6d2e06",
   "metadata": {},
   "outputs": [
    {
     "name": "stdout",
     "output_type": "stream",
     "text": [
      "                                                items  FY 2021_Q2  FY 2020_Q2  \\\n",
      "1                                             Revenue    14665.00    13784.00   \n",
      "2                                       Cost of sales    -9426.00    -8771.00   \n",
      "3                                        Gross profit     5239.00     5013.00   \n",
      "4                   Research and development expenses    -1128.00    -1159.00   \n",
      "5         Selling and general administrative expenses    -2562.00    -2649.00   \n",
      "6                              Other operating income       27.00       74.00   \n",
      "7                            Other operating expenses     -102.00      -57.00   \n",
      "8   Income (loss) from investments accounted for u...      -29.00       -3.00   \n",
      "9                                     Interest income      348.00      488.00   \n",
      "10                                  Interest expenses     -164.00     -312.00   \n",
      "11              Other financial income (expenses) net      355.00     -107.00   \n",
      "12  Income from continuing operations before incom...     1984.00     1287.00   \n",
      "13                                Income tax expenses     -468.00     -296.00   \n",
      "14                  Income from continuing operations     1516.00      992.00   \n",
      "15  Income (loss) from discontinued operations net...      874.00     -295.00   \n",
      "16                                         Net income     2390.00      697.00   \n",
      "17                                   Attributable to:        0.00        0.00   \n",
      "18                          Non-controlling interests      125.00       44.00   \n",
      "19                         Shareholders of Siemens AG     2265.00      652.00   \n",
      "20                           Basic earnings per share        0.00        0.00   \n",
      "21                  Income from continuing operations        1.73        1.15   \n",
      "22         Income (loss) from discontinued operations        1.09       -0.34   \n",
      "23                                         Net income        2.82        0.80   \n",
      "24                         Diluted earnings per share        0.00        0.00   \n",
      "25                  Income from continuing operations        1.71        1.13   \n",
      "26         Income (loss) from discontinued operations        1.08       -0.34   \n",
      "27                                         Net income        2.79        0.79   \n",
      "\n",
      "    FY 2021_FH  FY 2020_FH  FY 2021_Q2VA  FY 2020_Q2VA  FY 2021_FHVA  \\\n",
      "1     28736.00    27459.00    100.000000    100.000000    100.000000   \n",
      "2    -18177.00   -17459.00    -64.275486    -63.631747    -63.255150   \n",
      "3     10558.00    10000.00     35.724514     36.368253     36.741370   \n",
      "4     -2192.00    -2283.00     -7.691783     -8.408299     -7.628062   \n",
      "5     -5021.00    -5489.00    -17.470167    -19.217934    -17.472856   \n",
      "6       149.00      329.00      0.184112      0.536854      0.518513   \n",
      "7      -282.00     -163.00     -0.695534     -0.413523     -0.981347   \n",
      "8       -70.00       42.00     -0.197750     -0.021764     -0.243597   \n",
      "9       707.00      831.00      2.372997      3.540337      2.460329   \n",
      "10     -330.00     -454.00     -1.118309     -2.263494     -1.148385   \n",
      "11      429.00      -69.00      2.420730     -0.776262      1.492901   \n",
      "12     3948.00     2744.00     13.528810      9.336912     13.738864   \n",
      "13     -957.00     -564.00     -3.191272     -2.147417     -3.330317   \n",
      "14     2991.00     2179.00     10.337538      7.196750     10.408547   \n",
      "15      897.00     -394.00      5.959768     -2.140163      3.121520   \n",
      "16     3888.00     1786.00     16.297307      5.056587     13.530067   \n",
      "17        0.00        0.00      0.000000      0.000000      0.000000   \n",
      "18      246.00       52.00      0.852370      0.319211      0.856069   \n",
      "19     3642.00     1734.00     15.444937      4.730122     12.673998   \n",
      "20        0.00        0.00      0.000000      0.000000      0.000000   \n",
      "21        3.43        2.52      0.011797      0.008343      0.011936   \n",
      "22        1.12       -0.39      0.007433     -0.002467      0.003898   \n",
      "23        4.55        2.13      0.019229      0.005804      0.015834   \n",
      "24        0.00        0.00      0.000000      0.000000      0.000000   \n",
      "25        3.39        2.49      0.011660      0.008198      0.011797   \n",
      "26        1.11       -0.38      0.007364     -0.002467      0.003863   \n",
      "27        4.49        2.11      0.019025      0.005731      0.015625   \n",
      "\n",
      "    FY 2020_FHVA  \n",
      "1     100.000000  \n",
      "2     -63.582068  \n",
      "3      36.417932  \n",
      "4      -8.314214  \n",
      "5     -19.989803  \n",
      "6       1.198150  \n",
      "7      -0.593612  \n",
      "8       0.152955  \n",
      "9       3.026330  \n",
      "10     -1.653374  \n",
      "11     -0.251284  \n",
      "12      9.993081  \n",
      "13     -2.053971  \n",
      "14      7.935467  \n",
      "15     -1.434867  \n",
      "16      6.504243  \n",
      "17      0.000000  \n",
      "18      0.189373  \n",
      "19      6.314869  \n",
      "20      0.000000  \n",
      "21      0.009177  \n",
      "22     -0.001420  \n",
      "23      0.007757  \n",
      "24      0.000000  \n",
      "25      0.009068  \n",
      "26     -0.001384  \n",
      "27      0.007684  \n"
     ]
    }
   ],
   "source": [
    "# Covert the type of data to intiger to be able to calculate the ratios\n",
    "df_CSI['FY 2021_Q2'] = df_CSI['FY 2021_Q2'].astype(float)\n",
    "df_CSI['FY 2020_Q2'] = df_CSI['FY 2020_Q2'].astype(float)\n",
    "df_CSI['FY 2021_FH'] = df_CSI['FY 2021_FH'].astype(float)\n",
    "df_CSI['FY 2020_FH'] = df_CSI['FY 2020_FH'].astype(float)\n",
    "\n",
    "# Adding new columns as a separated group to calculate the ratios based on Net Incomes for every column \n",
    "df_CSI['FY 2021_Q2VA'] = (df_CSI['FY 2021_Q2']/14665.00)*100\n",
    "df_CSI['FY 2020_Q2VA'] = (df_CSI['FY 2020_Q2']/13784.00)*100\n",
    "df_CSI['FY 2021_FHVA'] = (df_CSI['FY 2021_FH']/28736.00)*100\n",
    "df_CSI['FY 2020_FHVA'] = (df_CSI['FY 2020_FH']/27459.00)*100\n",
    "\n",
    "print(df_CSI)"
   ]
  },
  {
   "cell_type": "code",
   "execution_count": 41,
   "id": "6449f2aa",
   "metadata": {
    "scrolled": false
   },
   "outputs": [
    {
     "data": {
      "text/html": [
       "<div>\n",
       "<style scoped>\n",
       "    .dataframe tbody tr th:only-of-type {\n",
       "        vertical-align: middle;\n",
       "    }\n",
       "\n",
       "    .dataframe tbody tr th {\n",
       "        vertical-align: top;\n",
       "    }\n",
       "\n",
       "    .dataframe thead th {\n",
       "        text-align: right;\n",
       "    }\n",
       "</style>\n",
       "<table border=\"1\" class=\"dataframe\">\n",
       "  <thead>\n",
       "    <tr style=\"text-align: right;\">\n",
       "      <th></th>\n",
       "      <th>items</th>\n",
       "      <th>FY 2021_Q2</th>\n",
       "      <th>FY 2020_Q2</th>\n",
       "      <th>FY 2021_FH</th>\n",
       "      <th>FY 2020_FH</th>\n",
       "      <th>FY 2021_Q2VA</th>\n",
       "      <th>FY 2020_Q2VA</th>\n",
       "      <th>FY 2021_FHVA</th>\n",
       "      <th>FY 2020_FHVA</th>\n",
       "    </tr>\n",
       "  </thead>\n",
       "  <tbody>\n",
       "    <tr>\n",
       "      <th>1</th>\n",
       "      <td>Revenue</td>\n",
       "      <td>14665.00</td>\n",
       "      <td>13784.00</td>\n",
       "      <td>28736.00</td>\n",
       "      <td>27459.00</td>\n",
       "      <td>100.000000</td>\n",
       "      <td>100.000000</td>\n",
       "      <td>100.000000</td>\n",
       "      <td>100.000000</td>\n",
       "    </tr>\n",
       "    <tr>\n",
       "      <th>2</th>\n",
       "      <td>Cost of sales</td>\n",
       "      <td>-9426.00</td>\n",
       "      <td>-8771.00</td>\n",
       "      <td>-18177.00</td>\n",
       "      <td>-17459.00</td>\n",
       "      <td>-64.275486</td>\n",
       "      <td>-63.631747</td>\n",
       "      <td>-63.255150</td>\n",
       "      <td>-63.582068</td>\n",
       "    </tr>\n",
       "    <tr>\n",
       "      <th>3</th>\n",
       "      <td>Gross profit</td>\n",
       "      <td>5239.00</td>\n",
       "      <td>5013.00</td>\n",
       "      <td>10558.00</td>\n",
       "      <td>10000.00</td>\n",
       "      <td>35.724514</td>\n",
       "      <td>36.368253</td>\n",
       "      <td>36.741370</td>\n",
       "      <td>36.417932</td>\n",
       "    </tr>\n",
       "    <tr>\n",
       "      <th>4</th>\n",
       "      <td>Research and development expenses</td>\n",
       "      <td>-1128.00</td>\n",
       "      <td>-1159.00</td>\n",
       "      <td>-2192.00</td>\n",
       "      <td>-2283.00</td>\n",
       "      <td>-7.691783</td>\n",
       "      <td>-8.408299</td>\n",
       "      <td>-7.628062</td>\n",
       "      <td>-8.314214</td>\n",
       "    </tr>\n",
       "    <tr>\n",
       "      <th>5</th>\n",
       "      <td>Selling and general administrative expenses</td>\n",
       "      <td>-2562.00</td>\n",
       "      <td>-2649.00</td>\n",
       "      <td>-5021.00</td>\n",
       "      <td>-5489.00</td>\n",
       "      <td>-17.470167</td>\n",
       "      <td>-19.217934</td>\n",
       "      <td>-17.472856</td>\n",
       "      <td>-19.989803</td>\n",
       "    </tr>\n",
       "    <tr>\n",
       "      <th>6</th>\n",
       "      <td>Other operating income</td>\n",
       "      <td>27.00</td>\n",
       "      <td>74.00</td>\n",
       "      <td>149.00</td>\n",
       "      <td>329.00</td>\n",
       "      <td>0.184112</td>\n",
       "      <td>0.536854</td>\n",
       "      <td>0.518513</td>\n",
       "      <td>1.198150</td>\n",
       "    </tr>\n",
       "    <tr>\n",
       "      <th>7</th>\n",
       "      <td>Other operating expenses</td>\n",
       "      <td>-102.00</td>\n",
       "      <td>-57.00</td>\n",
       "      <td>-282.00</td>\n",
       "      <td>-163.00</td>\n",
       "      <td>-0.695534</td>\n",
       "      <td>-0.413523</td>\n",
       "      <td>-0.981347</td>\n",
       "      <td>-0.593612</td>\n",
       "    </tr>\n",
       "    <tr>\n",
       "      <th>8</th>\n",
       "      <td>Income (loss) from investments accounted for u...</td>\n",
       "      <td>-29.00</td>\n",
       "      <td>-3.00</td>\n",
       "      <td>-70.00</td>\n",
       "      <td>42.00</td>\n",
       "      <td>-0.197750</td>\n",
       "      <td>-0.021764</td>\n",
       "      <td>-0.243597</td>\n",
       "      <td>0.152955</td>\n",
       "    </tr>\n",
       "    <tr>\n",
       "      <th>9</th>\n",
       "      <td>Interest income</td>\n",
       "      <td>348.00</td>\n",
       "      <td>488.00</td>\n",
       "      <td>707.00</td>\n",
       "      <td>831.00</td>\n",
       "      <td>2.372997</td>\n",
       "      <td>3.540337</td>\n",
       "      <td>2.460329</td>\n",
       "      <td>3.026330</td>\n",
       "    </tr>\n",
       "    <tr>\n",
       "      <th>10</th>\n",
       "      <td>Interest expenses</td>\n",
       "      <td>-164.00</td>\n",
       "      <td>-312.00</td>\n",
       "      <td>-330.00</td>\n",
       "      <td>-454.00</td>\n",
       "      <td>-1.118309</td>\n",
       "      <td>-2.263494</td>\n",
       "      <td>-1.148385</td>\n",
       "      <td>-1.653374</td>\n",
       "    </tr>\n",
       "    <tr>\n",
       "      <th>11</th>\n",
       "      <td>Other financial income (expenses) net</td>\n",
       "      <td>355.00</td>\n",
       "      <td>-107.00</td>\n",
       "      <td>429.00</td>\n",
       "      <td>-69.00</td>\n",
       "      <td>2.420730</td>\n",
       "      <td>-0.776262</td>\n",
       "      <td>1.492901</td>\n",
       "      <td>-0.251284</td>\n",
       "    </tr>\n",
       "    <tr>\n",
       "      <th>12</th>\n",
       "      <td>Income from continuing operations before incom...</td>\n",
       "      <td>1984.00</td>\n",
       "      <td>1287.00</td>\n",
       "      <td>3948.00</td>\n",
       "      <td>2744.00</td>\n",
       "      <td>13.528810</td>\n",
       "      <td>9.336912</td>\n",
       "      <td>13.738864</td>\n",
       "      <td>9.993081</td>\n",
       "    </tr>\n",
       "    <tr>\n",
       "      <th>13</th>\n",
       "      <td>Income tax expenses</td>\n",
       "      <td>-468.00</td>\n",
       "      <td>-296.00</td>\n",
       "      <td>-957.00</td>\n",
       "      <td>-564.00</td>\n",
       "      <td>-3.191272</td>\n",
       "      <td>-2.147417</td>\n",
       "      <td>-3.330317</td>\n",
       "      <td>-2.053971</td>\n",
       "    </tr>\n",
       "    <tr>\n",
       "      <th>14</th>\n",
       "      <td>Income from continuing operations</td>\n",
       "      <td>1516.00</td>\n",
       "      <td>992.00</td>\n",
       "      <td>2991.00</td>\n",
       "      <td>2179.00</td>\n",
       "      <td>10.337538</td>\n",
       "      <td>7.196750</td>\n",
       "      <td>10.408547</td>\n",
       "      <td>7.935467</td>\n",
       "    </tr>\n",
       "    <tr>\n",
       "      <th>15</th>\n",
       "      <td>Income (loss) from discontinued operations net...</td>\n",
       "      <td>874.00</td>\n",
       "      <td>-295.00</td>\n",
       "      <td>897.00</td>\n",
       "      <td>-394.00</td>\n",
       "      <td>5.959768</td>\n",
       "      <td>-2.140163</td>\n",
       "      <td>3.121520</td>\n",
       "      <td>-1.434867</td>\n",
       "    </tr>\n",
       "    <tr>\n",
       "      <th>16</th>\n",
       "      <td>Net income</td>\n",
       "      <td>2390.00</td>\n",
       "      <td>697.00</td>\n",
       "      <td>3888.00</td>\n",
       "      <td>1786.00</td>\n",
       "      <td>16.297307</td>\n",
       "      <td>5.056587</td>\n",
       "      <td>13.530067</td>\n",
       "      <td>6.504243</td>\n",
       "    </tr>\n",
       "    <tr>\n",
       "      <th>17</th>\n",
       "      <td>Attributable to:</td>\n",
       "      <td>0.00</td>\n",
       "      <td>0.00</td>\n",
       "      <td>0.00</td>\n",
       "      <td>0.00</td>\n",
       "      <td>0.000000</td>\n",
       "      <td>0.000000</td>\n",
       "      <td>0.000000</td>\n",
       "      <td>0.000000</td>\n",
       "    </tr>\n",
       "    <tr>\n",
       "      <th>18</th>\n",
       "      <td>Non-controlling interests</td>\n",
       "      <td>125.00</td>\n",
       "      <td>44.00</td>\n",
       "      <td>246.00</td>\n",
       "      <td>52.00</td>\n",
       "      <td>0.852370</td>\n",
       "      <td>0.319211</td>\n",
       "      <td>0.856069</td>\n",
       "      <td>0.189373</td>\n",
       "    </tr>\n",
       "    <tr>\n",
       "      <th>19</th>\n",
       "      <td>Shareholders of Siemens AG</td>\n",
       "      <td>2265.00</td>\n",
       "      <td>652.00</td>\n",
       "      <td>3642.00</td>\n",
       "      <td>1734.00</td>\n",
       "      <td>15.444937</td>\n",
       "      <td>4.730122</td>\n",
       "      <td>12.673998</td>\n",
       "      <td>6.314869</td>\n",
       "    </tr>\n",
       "    <tr>\n",
       "      <th>20</th>\n",
       "      <td>Basic earnings per share</td>\n",
       "      <td>0.00</td>\n",
       "      <td>0.00</td>\n",
       "      <td>0.00</td>\n",
       "      <td>0.00</td>\n",
       "      <td>0.000000</td>\n",
       "      <td>0.000000</td>\n",
       "      <td>0.000000</td>\n",
       "      <td>0.000000</td>\n",
       "    </tr>\n",
       "    <tr>\n",
       "      <th>21</th>\n",
       "      <td>Income from continuing operations</td>\n",
       "      <td>1.73</td>\n",
       "      <td>1.15</td>\n",
       "      <td>3.43</td>\n",
       "      <td>2.52</td>\n",
       "      <td>0.011797</td>\n",
       "      <td>0.008343</td>\n",
       "      <td>0.011936</td>\n",
       "      <td>0.009177</td>\n",
       "    </tr>\n",
       "    <tr>\n",
       "      <th>22</th>\n",
       "      <td>Income (loss) from discontinued operations</td>\n",
       "      <td>1.09</td>\n",
       "      <td>-0.34</td>\n",
       "      <td>1.12</td>\n",
       "      <td>-0.39</td>\n",
       "      <td>0.007433</td>\n",
       "      <td>-0.002467</td>\n",
       "      <td>0.003898</td>\n",
       "      <td>-0.001420</td>\n",
       "    </tr>\n",
       "    <tr>\n",
       "      <th>23</th>\n",
       "      <td>Net income</td>\n",
       "      <td>2.82</td>\n",
       "      <td>0.80</td>\n",
       "      <td>4.55</td>\n",
       "      <td>2.13</td>\n",
       "      <td>0.019229</td>\n",
       "      <td>0.005804</td>\n",
       "      <td>0.015834</td>\n",
       "      <td>0.007757</td>\n",
       "    </tr>\n",
       "    <tr>\n",
       "      <th>24</th>\n",
       "      <td>Diluted earnings per share</td>\n",
       "      <td>0.00</td>\n",
       "      <td>0.00</td>\n",
       "      <td>0.00</td>\n",
       "      <td>0.00</td>\n",
       "      <td>0.000000</td>\n",
       "      <td>0.000000</td>\n",
       "      <td>0.000000</td>\n",
       "      <td>0.000000</td>\n",
       "    </tr>\n",
       "    <tr>\n",
       "      <th>25</th>\n",
       "      <td>Income from continuing operations</td>\n",
       "      <td>1.71</td>\n",
       "      <td>1.13</td>\n",
       "      <td>3.39</td>\n",
       "      <td>2.49</td>\n",
       "      <td>0.011660</td>\n",
       "      <td>0.008198</td>\n",
       "      <td>0.011797</td>\n",
       "      <td>0.009068</td>\n",
       "    </tr>\n",
       "    <tr>\n",
       "      <th>26</th>\n",
       "      <td>Income (loss) from discontinued operations</td>\n",
       "      <td>1.08</td>\n",
       "      <td>-0.34</td>\n",
       "      <td>1.11</td>\n",
       "      <td>-0.38</td>\n",
       "      <td>0.007364</td>\n",
       "      <td>-0.002467</td>\n",
       "      <td>0.003863</td>\n",
       "      <td>-0.001384</td>\n",
       "    </tr>\n",
       "    <tr>\n",
       "      <th>27</th>\n",
       "      <td>Net income</td>\n",
       "      <td>2.79</td>\n",
       "      <td>0.79</td>\n",
       "      <td>4.49</td>\n",
       "      <td>2.11</td>\n",
       "      <td>0.019025</td>\n",
       "      <td>0.005731</td>\n",
       "      <td>0.015625</td>\n",
       "      <td>0.007684</td>\n",
       "    </tr>\n",
       "  </tbody>\n",
       "</table>\n",
       "</div>"
      ],
      "text/plain": [
       "                                                items  FY 2021_Q2  FY 2020_Q2  \\\n",
       "1                                             Revenue    14665.00    13784.00   \n",
       "2                                       Cost of sales    -9426.00    -8771.00   \n",
       "3                                        Gross profit     5239.00     5013.00   \n",
       "4                   Research and development expenses    -1128.00    -1159.00   \n",
       "5         Selling and general administrative expenses    -2562.00    -2649.00   \n",
       "6                              Other operating income       27.00       74.00   \n",
       "7                            Other operating expenses     -102.00      -57.00   \n",
       "8   Income (loss) from investments accounted for u...      -29.00       -3.00   \n",
       "9                                     Interest income      348.00      488.00   \n",
       "10                                  Interest expenses     -164.00     -312.00   \n",
       "11              Other financial income (expenses) net      355.00     -107.00   \n",
       "12  Income from continuing operations before incom...     1984.00     1287.00   \n",
       "13                                Income tax expenses     -468.00     -296.00   \n",
       "14                  Income from continuing operations     1516.00      992.00   \n",
       "15  Income (loss) from discontinued operations net...      874.00     -295.00   \n",
       "16                                         Net income     2390.00      697.00   \n",
       "17                                   Attributable to:        0.00        0.00   \n",
       "18                          Non-controlling interests      125.00       44.00   \n",
       "19                         Shareholders of Siemens AG     2265.00      652.00   \n",
       "20                           Basic earnings per share        0.00        0.00   \n",
       "21                  Income from continuing operations        1.73        1.15   \n",
       "22         Income (loss) from discontinued operations        1.09       -0.34   \n",
       "23                                         Net income        2.82        0.80   \n",
       "24                         Diluted earnings per share        0.00        0.00   \n",
       "25                  Income from continuing operations        1.71        1.13   \n",
       "26         Income (loss) from discontinued operations        1.08       -0.34   \n",
       "27                                         Net income        2.79        0.79   \n",
       "\n",
       "    FY 2021_FH  FY 2020_FH  FY 2021_Q2VA  FY 2020_Q2VA  FY 2021_FHVA  \\\n",
       "1     28736.00    27459.00    100.000000    100.000000    100.000000   \n",
       "2    -18177.00   -17459.00    -64.275486    -63.631747    -63.255150   \n",
       "3     10558.00    10000.00     35.724514     36.368253     36.741370   \n",
       "4     -2192.00    -2283.00     -7.691783     -8.408299     -7.628062   \n",
       "5     -5021.00    -5489.00    -17.470167    -19.217934    -17.472856   \n",
       "6       149.00      329.00      0.184112      0.536854      0.518513   \n",
       "7      -282.00     -163.00     -0.695534     -0.413523     -0.981347   \n",
       "8       -70.00       42.00     -0.197750     -0.021764     -0.243597   \n",
       "9       707.00      831.00      2.372997      3.540337      2.460329   \n",
       "10     -330.00     -454.00     -1.118309     -2.263494     -1.148385   \n",
       "11      429.00      -69.00      2.420730     -0.776262      1.492901   \n",
       "12     3948.00     2744.00     13.528810      9.336912     13.738864   \n",
       "13     -957.00     -564.00     -3.191272     -2.147417     -3.330317   \n",
       "14     2991.00     2179.00     10.337538      7.196750     10.408547   \n",
       "15      897.00     -394.00      5.959768     -2.140163      3.121520   \n",
       "16     3888.00     1786.00     16.297307      5.056587     13.530067   \n",
       "17        0.00        0.00      0.000000      0.000000      0.000000   \n",
       "18      246.00       52.00      0.852370      0.319211      0.856069   \n",
       "19     3642.00     1734.00     15.444937      4.730122     12.673998   \n",
       "20        0.00        0.00      0.000000      0.000000      0.000000   \n",
       "21        3.43        2.52      0.011797      0.008343      0.011936   \n",
       "22        1.12       -0.39      0.007433     -0.002467      0.003898   \n",
       "23        4.55        2.13      0.019229      0.005804      0.015834   \n",
       "24        0.00        0.00      0.000000      0.000000      0.000000   \n",
       "25        3.39        2.49      0.011660      0.008198      0.011797   \n",
       "26        1.11       -0.38      0.007364     -0.002467      0.003863   \n",
       "27        4.49        2.11      0.019025      0.005731      0.015625   \n",
       "\n",
       "    FY 2020_FHVA  \n",
       "1     100.000000  \n",
       "2     -63.582068  \n",
       "3      36.417932  \n",
       "4      -8.314214  \n",
       "5     -19.989803  \n",
       "6       1.198150  \n",
       "7      -0.593612  \n",
       "8       0.152955  \n",
       "9       3.026330  \n",
       "10     -1.653374  \n",
       "11     -0.251284  \n",
       "12      9.993081  \n",
       "13     -2.053971  \n",
       "14      7.935467  \n",
       "15     -1.434867  \n",
       "16      6.504243  \n",
       "17      0.000000  \n",
       "18      0.189373  \n",
       "19      6.314869  \n",
       "20      0.000000  \n",
       "21      0.009177  \n",
       "22     -0.001420  \n",
       "23      0.007757  \n",
       "24      0.000000  \n",
       "25      0.009068  \n",
       "26     -0.001384  \n",
       "27      0.007684  "
      ]
     },
     "execution_count": 41,
     "metadata": {},
     "output_type": "execute_result"
    }
   ],
   "source": [
    "# Applying the drop and index methods to prapare a table\n",
    "df_CSI"
   ]
  },
  {
   "cell_type": "code",
   "execution_count": 42,
   "id": "fe56cd9e",
   "metadata": {},
   "outputs": [
    {
     "data": {
      "text/plain": [
       "Index(['items', 'FY 2021_Q2', 'FY 2020_Q2', 'FY 2021_FH', 'FY 2020_FH',\n",
       "       'FY 2021_Q2VA', 'FY 2020_Q2VA', 'FY 2021_FHVA', 'FY 2020_FHVA'],\n",
       "      dtype='object')"
      ]
     },
     "execution_count": 42,
     "metadata": {},
     "output_type": "execute_result"
    }
   ],
   "source": [
    "# The columns at first are not in order in terms of time\n",
    "df_CSI.columns"
   ]
  },
  {
   "cell_type": "code",
   "execution_count": 43,
   "id": "0152a03a",
   "metadata": {
    "scrolled": false
   },
   "outputs": [
    {
     "data": {
      "text/plain": [
       "Index(['items', 'FY 2020_Q2', 'FY 2020_FH', 'FY 2021_Q2', 'FY 2021_FH',\n",
       "       'FY 2020_Q2VA', 'FY 2020_FHVA', 'FY 2021_Q2VA', 'FY 2021_FHVA'],\n",
       "      dtype='object')"
      ]
     },
     "execution_count": 43,
     "metadata": {},
     "output_type": "execute_result"
    }
   ],
   "source": [
    "# But after changing the position of columns, it will be in order even when we run the past lines of commands too.\n",
    "df_CSINewC = ['items', 'FY 2020_Q2', 'FY 2020_FH', 'FY 2021_Q2', 'FY 2021_FH', 'FY 2020_Q2VA', 'FY 2020_FHVA',\n",
    "       'FY 2021_Q2VA', 'FY 2021_FHVA']\n",
    "df_CSI = df_CSI[df_CSINewC]\n",
    "df_CSI.columns"
   ]
  },
  {
   "cell_type": "code",
   "execution_count": 44,
   "id": "f8c89eb7",
   "metadata": {},
   "outputs": [
    {
     "data": {
      "text/plain": [
       "Index(['items', 'FY 2020_Q2', 'FY 2020_FH', 'FY 2021_Q2', 'FY 2021_FH',\n",
       "       'FY 2020_Q2VA', 'FY 2020_FHVA', 'FY 2021_Q2VA', 'FY 2021_FHVA'],\n",
       "      dtype='object')"
      ]
     },
     "execution_count": 44,
     "metadata": {},
     "output_type": "execute_result"
    }
   ],
   "source": [
    "# The columns are in order now.\n",
    "df_CSI.columns"
   ]
  },
  {
   "cell_type": "markdown",
   "id": "18ad4466",
   "metadata": {},
   "source": [
    "### Extracting the Important Values\n",
    "<br/>\n",
    "<font size='3' color='navy'> \n",
    "   \n",
    "some values which are more important to compare are as follows:\n",
    "\n",
    "<br/>\n",
    "<font size='2' color='gray'>\n",
    "These are the fifth important items to be extracted and used:\n",
    "    \n",
    "- Revenue\n",
    "- Gross Profit\n",
    "- Income from continuing operations before income taxes\n",
    "- Income from continuing operations\n",
    "- Net Income"
   ]
  },
  {
   "cell_type": "code",
   "execution_count": 45,
   "id": "ce694828",
   "metadata": {},
   "outputs": [
    {
     "data": {
      "text/plain": [
       "(27, 9)"
      ]
     },
     "execution_count": 45,
     "metadata": {},
     "output_type": "execute_result"
    }
   ],
   "source": [
    "# To know the number of rows and columns of our dataframe\n",
    "df_CSI.shape"
   ]
  },
  {
   "cell_type": "code",
   "execution_count": 46,
   "id": "e45415cb",
   "metadata": {},
   "outputs": [
    {
     "name": "stdout",
     "output_type": "stream",
     "text": [
      "Index(['items', 'FY 2020_Q2', 'FY 2020_FH', 'FY 2021_Q2', 'FY 2021_FH',\n",
      "       'FY 2020_Q2VA', 'FY 2020_FHVA', 'FY 2021_Q2VA', 'FY 2021_FHVA'],\n",
      "      dtype='object')\n",
      "['items', 'FY 2020_Q2', 'FY 2020_FH', 'FY 2021_Q2', 'FY 2021_FH', 'FY 2020_Q2VA', 'FY 2020_FHVA', 'FY 2021_Q2VA', 'FY 2021_FHVA']\n",
      "['FY 2020_Q2', 'FY 2020_FH', 'FY 2021_Q2', 'FY 2021_FH']\n"
     ]
    }
   ],
   "source": [
    "# To see the name of columns\n",
    "df_CSI.columns\n",
    "\n",
    "# To Prepare a list out of the columns' names\n",
    "CSICl = df_CSI.columns\n",
    "print(CSICl)\n",
    "\n",
    "# Converting the index of CSICl to a list\n",
    "CSICl = CSICl.values.tolist()\n",
    "print(CSICl)\n",
    "\n",
    "# removing the first item of the list and the last four items because for the first graph we do not want percentages as they are useless for our barchart\n",
    "CSICl.pop(0)\n",
    "del CSICl[4:8]\n",
    "print(CSICl)"
   ]
  },
  {
   "cell_type": "code",
   "execution_count": 47,
   "id": "35ebecc2",
   "metadata": {},
   "outputs": [
    {
     "name": "stdout",
     "output_type": "stream",
     "text": [
      "items           Revenue\n",
      "FY 2020_Q2      13784.0\n",
      "FY 2020_FH      27459.0\n",
      "FY 2021_Q2      14665.0\n",
      "FY 2021_FH      28736.0\n",
      "FY 2020_Q2VA      100.0\n",
      "FY 2020_FHVA      100.0\n",
      "FY 2021_Q2VA      100.0\n",
      "FY 2021_FHVA      100.0\n",
      "Name: 1, dtype: object\n"
     ]
    }
   ],
   "source": [
    "# Extracting the first row: Revenue, just to see the resutl\n",
    "CSI0 = df_CSI.iloc[0,]\n",
    "print(CSI0)"
   ]
  },
  {
   "cell_type": "code",
   "execution_count": 48,
   "id": "7bd6d29d",
   "metadata": {},
   "outputs": [
    {
     "name": "stdout",
     "output_type": "stream",
     "text": [
      "['Revenue', 13784.0, 27459.0, 14665.0, 28736.0, 100.0, 100.0, 100.0, 100.0]\n",
      "[13784.0, 27459.0, 14665.0, 28736.0]\n"
     ]
    }
   ],
   "source": [
    "# Extracting the revenue as a list\n",
    "LCSI0 = df_CSI.iloc[0].values.tolist()\n",
    "print(LCSI0)\n",
    "\n",
    "# Removing the first item because it is the name of the row and the last four items because for the first graph we do not want percentages so not usefull for barchart\n",
    "LCSI0.pop(0)\n",
    "del LCSI0[4:8]\n",
    "print(LCSI0)"
   ]
  },
  {
   "cell_type": "code",
   "execution_count": 49,
   "id": "84185327",
   "metadata": {
    "scrolled": true
   },
   "outputs": [
    {
     "name": "stdout",
     "output_type": "stream",
     "text": [
      "items           Gross profit\n",
      "FY 2020_Q2            5013.0\n",
      "FY 2020_FH           10000.0\n",
      "FY 2021_Q2            5239.0\n",
      "FY 2021_FH           10558.0\n",
      "FY 2020_Q2VA       36.368253\n",
      "FY 2020_FHVA       36.417932\n",
      "FY 2021_Q2VA       35.724514\n",
      "FY 2021_FHVA        36.74137\n",
      "Name: 3, dtype: object\n"
     ]
    }
   ],
   "source": [
    "# Extracting the third row: Gross Profit just to see the result\n",
    "CSI2 = df_CSI.iloc[2,]\n",
    "print(CSI2)"
   ]
  },
  {
   "cell_type": "code",
   "execution_count": 50,
   "id": "819ad08a",
   "metadata": {},
   "outputs": [
    {
     "name": "stdout",
     "output_type": "stream",
     "text": [
      "['Gross profit', 5013.0, 10000.0, 5239.0, 10558.0, 36.36825304701103, 36.417932189810266, 35.72451414933515, 36.74136971046771]\n",
      "[5013.0, 10000.0, 5239.0, 10558.0]\n"
     ]
    }
   ],
   "source": [
    "# Extracting the Gross Profit as a list\n",
    "LCSI2 = df_CSI.iloc[2].values.tolist()\n",
    "print(LCSI2)\n",
    "\n",
    "# Removing the first item because it is the name of the row and the last four items because for the first graph we do not want percentages so not usefull for barchart\n",
    "LCSI2.pop(0)\n",
    "del LCSI2[4:8]\n",
    "print(LCSI2)"
   ]
  },
  {
   "cell_type": "code",
   "execution_count": 51,
   "id": "f46dfe52",
   "metadata": {},
   "outputs": [
    {
     "name": "stdout",
     "output_type": "stream",
     "text": [
      "items           Income from continuing operations before incom...\n",
      "FY 2020_Q2                                                 1287.0\n",
      "FY 2020_FH                                                 2744.0\n",
      "FY 2021_Q2                                                 1984.0\n",
      "FY 2021_FH                                                 3948.0\n",
      "FY 2020_Q2VA                                             9.336912\n",
      "FY 2020_FHVA                                             9.993081\n",
      "FY 2021_Q2VA                                             13.52881\n",
      "FY 2021_FHVA                                            13.738864\n",
      "Name: 12, dtype: object\n"
     ]
    }
   ],
   "source": [
    "# Extracting the twelfth row: Income from continuing operations before income taxes just to see the result\n",
    "CSI11 = df_CSI.iloc[11,]\n",
    "print(CSI11)"
   ]
  },
  {
   "cell_type": "code",
   "execution_count": 52,
   "id": "17e58ac7",
   "metadata": {},
   "outputs": [
    {
     "name": "stdout",
     "output_type": "stream",
     "text": [
      "['Income from continuing operations before income taxes', 1287.0, 2744.0, 1984.0, 3948.0, 9.336912362159024, 9.993080592883937, 13.528810092055915, 13.738864142538976]\n",
      "[1287.0, 2744.0, 1984.0, 3948.0]\n"
     ]
    }
   ],
   "source": [
    "# Extracting the Income from continuing operations before income taxes as a list\n",
    "LCSI11 = df_CSI.iloc[11].values.tolist()\n",
    "print(LCSI11)\n",
    "\n",
    "# Removing the first item because it is the name of the row and the last four items because for the first graph we do not want percentages so not usefull for barchart\n",
    "LCSI11.pop(0)\n",
    "del LCSI11[4:8]\n",
    "print(LCSI11)"
   ]
  },
  {
   "cell_type": "code",
   "execution_count": 53,
   "id": "58a5d55e",
   "metadata": {
    "scrolled": true
   },
   "outputs": [
    {
     "name": "stdout",
     "output_type": "stream",
     "text": [
      "items           Income from continuing operations\n",
      "FY 2020_Q2                                  992.0\n",
      "FY 2020_FH                                 2179.0\n",
      "FY 2021_Q2                                 1516.0\n",
      "FY 2021_FH                                 2991.0\n",
      "FY 2020_Q2VA                              7.19675\n",
      "FY 2020_FHVA                             7.935467\n",
      "FY 2021_Q2VA                            10.337538\n",
      "FY 2021_FHVA                            10.408547\n",
      "Name: 14, dtype: object\n"
     ]
    }
   ],
   "source": [
    "# Extracting the fourteenth row: Income from continuing operations just to see the result\n",
    "CSI13 = df_CSI.iloc[13,]\n",
    "print(CSI13)"
   ]
  },
  {
   "cell_type": "code",
   "execution_count": 54,
   "id": "e93041d8",
   "metadata": {},
   "outputs": [
    {
     "name": "stdout",
     "output_type": "stream",
     "text": [
      "['Income from continuing operations', 992.0, 2179.0, 1516.0, 2991.0, 7.196749854904237, 7.935467424159656, 10.337538356631436, 10.408546770601337]\n",
      "[992.0, 2179.0, 1516.0, 2991.0]\n"
     ]
    }
   ],
   "source": [
    "# Extracting the Income from continuing operations as a list\n",
    "LCSI13 = df_CSI.iloc[13].values.tolist()\n",
    "print(LCSI13)\n",
    "\n",
    "# Removing the first item because it is the name of the row and the last four items because for the first graph we do not want percentages sonot usefull for barchart\n",
    "LCSI13.pop(0)\n",
    "del LCSI13[4:8]\n",
    "print(LCSI13)"
   ]
  },
  {
   "cell_type": "code",
   "execution_count": 55,
   "id": "a86a0230",
   "metadata": {
    "scrolled": true
   },
   "outputs": [
    {
     "name": "stdout",
     "output_type": "stream",
     "text": [
      "FY 2020_Q2VA     5.056587\n",
      "FY 2020_FHVA     6.504243\n",
      "FY 2021_Q2VA    16.297307\n",
      "FY 2021_FHVA    13.530067\n",
      "Name: 16, dtype: object\n"
     ]
    }
   ],
   "source": [
    "# Extracting the twenty-seventh row: Net Income just to see the result\n",
    "CSI15 = df_CSI.iloc[15, 5:9]\n",
    "print(CSI15)"
   ]
  },
  {
   "cell_type": "code",
   "execution_count": 56,
   "id": "48ea8056",
   "metadata": {},
   "outputs": [
    {
     "name": "stdout",
     "output_type": "stream",
     "text": [
      "['Net income', 697.0, 1786.0, 2390.0, 3888.0, 5.056587347649448, 6.5042426891001135, 16.29730651210365, 13.530066815144767]\n",
      "[697.0, 1786.0, 2390.0, 3888.0]\n"
     ]
    }
   ],
   "source": [
    "# Extracting the Net Income before income taxes as a list\n",
    "LCSI15 = df_CSI.iloc[15].values.tolist()\n",
    "print(LCSI15)\n",
    "\n",
    "# Removing the first item because it is the name of the row and the last four items because for the first graph we do not want percentages sonot usefull for barchart\n",
    "LCSI15.pop(0)\n",
    "del LCSI15[4:8]\n",
    "print(LCSI15)"
   ]
  },
  {
   "cell_type": "code",
   "execution_count": 58,
   "id": "4fff1bb2",
   "metadata": {},
   "outputs": [],
   "source": [
    "# At this stage the bar chart of the selected lists are going to be plotted.\n",
    "# The extracted data are prepared to plot the graphs. To do that we need a new library.\n",
    "# import the libraries like matplotlib and folium\n",
    "from matplotlib import pyplot as plt\n",
    "from matplotlib.pyplot import figure\n",
    "import numpy as np"
   ]
  },
  {
   "cell_type": "code",
   "execution_count": 59,
   "id": "bca8ac4e",
   "metadata": {
    "scrolled": true
   },
   "outputs": [
    {
     "name": "stdout",
     "output_type": "stream",
     "text": [
      "['Solarize_Light2', '_classic_test_patch', '_mpl-gallery', '_mpl-gallery-nogrid', 'bmh', 'classic', 'dark_background', 'fast', 'fivethirtyeight', 'ggplot', 'grayscale', 'seaborn', 'seaborn-bright', 'seaborn-colorblind', 'seaborn-dark', 'seaborn-dark-palette', 'seaborn-darkgrid', 'seaborn-deep', 'seaborn-muted', 'seaborn-notebook', 'seaborn-paper', 'seaborn-pastel', 'seaborn-poster', 'seaborn-talk', 'seaborn-ticks', 'seaborn-white', 'seaborn-whitegrid', 'tableau-colorblind10']\n"
     ]
    }
   ],
   "source": [
    "# To have the opportunity of choosing from different styles\n",
    "print(plt.style.available)"
   ]
  },
  {
   "cell_type": "code",
   "execution_count": 60,
   "id": "ed7403e0",
   "metadata": {
    "scrolled": true
   },
   "outputs": [
    {
     "name": "stdout",
     "output_type": "stream",
     "text": [
      "['FY 2020_Q2', 'FY 2020_FH', 'FY 2021_Q2', 'FY 2021_FH']\n"
     ]
    }
   ],
   "source": [
    "# Checking the columns' position\n",
    "print(CSICl)"
   ]
  },
  {
   "cell_type": "code",
   "execution_count": 61,
   "id": "32aa1ed3",
   "metadata": {
    "scrolled": false
   },
   "outputs": [
    {
     "data": {
      "image/png": "[encoded data removed]",
      "text/plain": [
       "<Figure size 576x288 with 1 Axes>"
      ]
     },
     "metadata": {},
     "output_type": "display_data"
    }
   ],
   "source": [
    "# Choosing the style\n",
    "plt.style.use('seaborn-whitegrid')\n",
    "\n",
    "# Choosing the figure size\n",
    "plt.rcParams['figure.figsize'] = [8, 4]\n",
    "\n",
    "# Providing the list of various periods as X independent variable\n",
    "LCSIX =  CSICl \n",
    "\n",
    "# Other lists from LCSI0 to LCSI26, dependent variables on Y axis, already are ready.\n",
    "\n",
    "x_indices = np.arange(len(CSICl))\n",
    "width = 0.15\n",
    "plt.style.use('Solarize_Light2')\n",
    "\n",
    "plt.bar(x_indices- width*2, LCSI0, color = 'w', width = width, label = 'Revenue')\n",
    "plt.bar(x_indices- width*1, LCSI2, color = 'c', width = width, label = 'Gross Profit')\n",
    "plt.bar(x_indices ,  LCSI11, width = width, color = 'k', label = 'Income from continuing operations before income taxes')\n",
    "plt.bar(x_indices + width*1, LCSI13, color = 'g', width = width, label = 'Income from continuing operations')\n",
    "plt.bar(x_indices + width*2, LCSI15, width = width, color = 'b' ,label = 'Net Income')\n",
    "\n",
    "plt.title('Vertical Analysis Bar Chart of Consolidated Income St.')\n",
    "plt.xlabel('Intervals')\n",
    "plt.ylabel('Million Euro')\n",
    "plt.grid(True)\n",
    "plt.legend()\n",
    "plt.savefig('developers.jpg')"
   ]
  },
  {
   "cell_type": "markdown",
   "id": "a9e47ec2",
   "metadata": {},
   "source": [
    "## Income Statement Analysis  \n",
    "<br/>\n",
    "<font size='4' color='navy'> \n",
    "   \n",
    "As there are four intervals, there is the analysis to help comparing the outcome horizontally. Also, it is possible to consider the vertical evaluation.\n",
    "<br/>\n",
    "\n",
    "These are the five important items to be considered to interpret.\n",
    "<br/>\n",
    "<font size='3' color='gray'>\n",
    "<br/>  \n",
    "<br/>\n",
    "Revenues are greater, obviously, in the financial half times than those of the quarters, which is noraml as the number of months are more. Also, as this is the same point for the other elements of evaluation, it is meaningful to analyze based on revenue.\n",
    "<br/>  \n",
    "<br/>\n",
    "Gross Profit: Clearly, it is significant that gross profit climbs for FY periods like revenue.\n",
    "<br/>\n",
    "<br/>\n",
    "All three different income items, \"income from continuing operations before income taxes\", \"income from continuing operations\" and \"Net Income\" do not change considerably, however, the \"Net Income\" goes up for the last one, denoting to achieve more profit as time goes forward, while the revenue is not visibly changed. It represents entirely decent managing the cost of production."
   ]
  },
  {
   "cell_type": "code",
   "execution_count": null,
   "id": "facf720d",
   "metadata": {},
   "outputs": [],
   "source": []
  }
 ],
 "metadata": {
  "kernelspec": {
   "display_name": "Python 3 (ipykernel)",
   "language": "python",
   "name": "python3"
  },
  "language_info": {
   "codemirror_mode": {
    "name": "ipython",
    "version": 3
   },
   "file_extension": ".py",
   "mimetype": "text/x-python",
   "name": "python",
   "nbconvert_exporter": "python",
   "pygments_lexer": "ipython3",
   "version": "3.9.12"
  }
 },
 "nbformat": 4,
 "nbformat_minor": 5
}
