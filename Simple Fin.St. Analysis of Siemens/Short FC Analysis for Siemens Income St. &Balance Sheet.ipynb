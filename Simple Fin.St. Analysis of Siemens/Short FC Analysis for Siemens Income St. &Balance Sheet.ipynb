{
 "cells": [
  {
   "cell_type": "markdown",
   "id": "8303cea3",
   "metadata": {},
   "source": [
    "# IBAT COLLEGE DUBLIN \n",
    "\n",
    "<font size='4' color='blue'>Course: Diploma in Python</font>\n",
    "\n",
    "<font color='blue'>\n",
    "<br/>\n",
    "  -Lecturer: Morgan McKnight\n",
    "<br/>\n",
    "\n",
    "-Developer: Hossein Yazdi\n",
    "</font>\n"
   ]
  },
  {
   "cell_type": "markdown",
   "id": "af654ff4",
   "metadata": {},
   "source": [
    "## Introduction Background to the data set\n",
    "\n",
    "<br>\n",
    "<font size='2' color='gray'>\n",
    "About Siemens: \n",
    "    \n",
    "    Organization of the Siemens Group and basis of presentation: \n",
    "    Siemens is a technology company that is active in nearly all countries of the world, focusing on the areas of automation \n",
    "    and digitalization in the process and manufacturing industries, intelligent infrastructure for buildings and distributed \n",
    "    energy systems, smart mobility solutions for rail and road and medical technology and digital healthcare services.\n",
    "    \n",
    "    Siemens comprises Siemens Aktiengesellschaft (Siemens AG), a stock corporation under the Federal laws of Germany, as the parent company and its subsidiaries. Our Company is incorporated in Germany, with our coroporate headquarters situated in Munich. As of September 30, 2020, Siemens had around 293,000 employees. (Siemens, 2022)\n",
    "    \n",
    "    To do the analysis, the annual reports 2020 and the following time period is employed, in the way to explain general features and to compute the financial ratios and features from 2020 and 2021 respectively. \n",
    "    \n",
    "    All the original files are accessible to refer to.\n",
    "    \n",
    "    Usually, the financial controlling are done based on three preliminary source documents; journals, ledger, trial balance, and five financial statements including  Income Statement, statement of retained earnings, statement of changes in equity, statement of financial position (Balance Sheet), and finally, Cash Flow Statement. (Siemens A, 2022)\n",
    "    \n",
    "    This Project is going to apply all of them.\n",
    "</font>\n"
   ]
  },
  {
   "cell_type": "code",
   "execution_count": 49,
   "id": "79053079",
   "metadata": {},
   "outputs": [],
   "source": [
    "\n",
    "# At the first step by using the dictionary, importing pandas library, and applying dataframe command,\n",
    "# the Siemens Financial Framework is provided.\n",
    "# importing the pandas library.\n",
    "import pandas as pd"
   ]
  },
  {
   "cell_type": "markdown",
   "id": "82aeedb7",
   "metadata": {},
   "source": [
    "### PDA: Predictive Data Analytics:\n",
    "<br/>\n",
    "<font size='2' color='gray'>\n",
    "Predictive analytics is a branch of advanced analytics that makes predictions about future outcomes using historical data combined with statistical modeling, data mining techniques and machine learning. Companies employ predictive analytics to find patterns in this data to identify risks and opportunities. \n",
    "\n",
    "Predictive analytics is often associated with big data and data science. Companies today are swimming in data that resides across transactional databases, equipment log files, images, video, sensors or other data sources. To gain insights from this data, data scientists use deep learning and machine learning algorithms to find patterns and make predictions about future events. These include linear and nonlinear regression, neural networks, support vector machines and decision trees. Learnings obtained through predictive analytics can then be used further within prescriptive analytics to drive actions based on predictive insights.\n",
    "\n",
    "<br/>\n",
    "    \n",
    "<font size='3' color='navy'> \n",
    "(ibm, 2022)\n",
    "</font>"
   ]
  },
  {
   "cell_type": "markdown",
   "id": "76f5ef6d",
   "metadata": {},
   "source": [
    "# Chapter 1: Vertical Analysis Bar Chart of Consolidated Income St.\n",
    "\n",
    "<br/>\n",
    "<br/>\n",
    "<br/>\n",
    "<br/>\n",
    "<br/>\n",
    "<br/>"
   ]
  },
  {
   "cell_type": "code",
   "execution_count": 50,
   "id": "3abb9554",
   "metadata": {
    "scrolled": true
   },
   "outputs": [
    {
     "name": "stdout",
     "output_type": "stream",
     "text": [
      "      Consolidated Statements of Income Q2 First half                  .1  \\\n",
      "0           (in millions of € per share amounts in €)   FY 2021   FY 2020   \n",
      "1                                             Revenue     14665     13784   \n",
      "2                                       Cost of sales     -9426     -8771   \n",
      "3                                        Gross profit      5239      5013   \n",
      "4                   Research and development expenses     -1128     -1159   \n",
      "5         Selling and general administrative expenses     -2562     -2649   \n",
      "6                              Other operating income        27        74   \n",
      "7                            Other operating expenses      -102       -57   \n",
      "8   Income (loss) from investments accounted for u...       -29        -3   \n",
      "9                                     Interest income       348       488   \n",
      "10                                  Interest expenses      -164      -312   \n",
      "11              Other financial income (expenses) net       355      -107   \n",
      "12  Income from continuing operations before incom...      1984      1287   \n",
      "13                                Income tax expenses      -468      -296   \n",
      "14                  Income from continuing operations      1516       992   \n",
      "15  Income (loss) from discontinued operations net...       874      -295   \n",
      "16                                         Net income      2390       697   \n",
      "17                                   Attributable to:       NaN       NaN   \n",
      "18                          Non-controlling interests       125        44   \n",
      "19                         Shareholders of Siemens AG      2265       652   \n",
      "20                           Basic earnings per share       NaN       NaN   \n",
      "21                  Income from continuing operations      1.73      1.15   \n",
      "22         Income (loss) from discontinued operations      1.09     -0.34   \n",
      "23                                         Net income      2.82       0.8   \n",
      "24                         Diluted earnings per share       NaN       NaN   \n",
      "25                  Income from continuing operations      1.71      1.13   \n",
      "26         Income (loss) from discontinued operations      1.08     -0.34   \n",
      "27                                         Net income      2.79      0.79   \n",
      "\n",
      "          .2        .3  \n",
      "0    FY 2021   FY 2020  \n",
      "1      28736     27459  \n",
      "2     -18177    -17459  \n",
      "3      10558     10000  \n",
      "4      -2192     -2283  \n",
      "5      -5021     -5489  \n",
      "6        149       329  \n",
      "7       -282      -163  \n",
      "8        -70        42  \n",
      "9        707       831  \n",
      "10      -330      -454  \n",
      "11       429       -69  \n",
      "12      3948      2744  \n",
      "13      -957      -564  \n",
      "14      2991      2179  \n",
      "15       897      -394  \n",
      "16      3888      1786  \n",
      "17       NaN       NaN  \n",
      "18       246        52  \n",
      "19      3642      1734  \n",
      "20       NaN       NaN  \n",
      "21      3.43      2.52  \n",
      "22      1.12     -0.39  \n",
      "23      4.55      2.13  \n",
      "24       NaN       NaN  \n",
      "25      3.39      2.49  \n",
      "26      1.11     -0.38  \n",
      "27      4.49      2.11  \n"
     ]
    }
   ],
   "source": [
    "\n",
    "# Import the Siemens' Consolidated Statements of Income (CSI) as an Excel file into Python by pd.read_csv(\"FileName.csv\")\n",
    "\n",
    "df_CSI = pd.read_csv(\"data/Siemens Consolidated Income Statement.csv\") # (Siemens, 2022)\n",
    "\n",
    "print(df_CSI)"
   ]
  },
  {
   "cell_type": "code",
   "execution_count": 51,
   "id": "e331245d",
   "metadata": {
    "scrolled": true
   },
   "outputs": [],
   "source": [
    "\n",
    "# Preparation and Cleaning the table of Consolidated Statements of Income (CSI)\n",
    "\n",
    "# Changing the names of the columns to be appropriate and readable better\n",
    "df_CSI = df_CSI.rename(columns={'Consolidated Statements of Income Q2 First half':'items', ' ':'FY 2021_Q2', ' .1':'FY 2020_Q2', ' .2':'FY 2021_FH', ' .3':'FY 2020_FH'}, inplace=False)\n",
    "\n",
    "\n",
    "# Removing the first row as it is useless now \n",
    "df_CSI = df_CSI.drop(labels=range(1), axis=0, inplace=False)"
   ]
  },
  {
   "cell_type": "markdown",
   "id": "c34e8377",
   "metadata": {},
   "source": [
    "### Vertical Analysis\n",
    "<br/>\n",
    "<font size='3' color='navy'> \n",
    "   \n",
    "Basic Criteria\n",
    "\n",
    "<br/>\n",
    "<font size='2' color='gray'>\n",
    "In Financial analysis, one of them is vertical analysis in which the analyst look up and down the data in a statement. \n",
    "So the percentage of all items based on one primary criteria is important. In our table which is income statement the key \n",
    "criteria is considered as \"Revenue\" or \"Net Income\". Therefore, its percentage is 100% and the others are computed compared to its amount. \n",
    "    \n",
    " (CFI Team, 2022)"
   ]
  },
  {
   "cell_type": "code",
   "execution_count": 52,
   "id": "75043fa7",
   "metadata": {
    "scrolled": true
   },
   "outputs": [
    {
     "name": "stdout",
     "output_type": "stream",
     "text": [
      "                                                items FY 2021_Q2 FY 2020_Q2  \\\n",
      "1                                             Revenue      14665      13784   \n",
      "2                                       Cost of sales      -9426      -8771   \n",
      "3                                        Gross profit       5239       5013   \n",
      "4                   Research and development expenses      -1128      -1159   \n",
      "5         Selling and general administrative expenses      -2562      -2649   \n",
      "6                              Other operating income         27         74   \n",
      "7                            Other operating expenses       -102        -57   \n",
      "8   Income (loss) from investments accounted for u...        -29         -3   \n",
      "9                                     Interest income        348        488   \n",
      "10                                  Interest expenses       -164       -312   \n",
      "11              Other financial income (expenses) net        355       -107   \n",
      "12  Income from continuing operations before incom...       1984       1287   \n",
      "13                                Income tax expenses       -468       -296   \n",
      "14                  Income from continuing operations       1516        992   \n",
      "15  Income (loss) from discontinued operations net...        874       -295   \n",
      "16                                         Net income       2390        697   \n",
      "17                                   Attributable to:          0          0   \n",
      "18                          Non-controlling interests        125         44   \n",
      "19                         Shareholders of Siemens AG       2265        652   \n",
      "20                           Basic earnings per share          0          0   \n",
      "21                  Income from continuing operations       1.73       1.15   \n",
      "22         Income (loss) from discontinued operations       1.09      -0.34   \n",
      "23                                         Net income       2.82        0.8   \n",
      "24                         Diluted earnings per share          0          0   \n",
      "25                  Income from continuing operations       1.71       1.13   \n",
      "26         Income (loss) from discontinued operations       1.08      -0.34   \n",
      "27                                         Net income       2.79       0.79   \n",
      "\n",
      "   FY 2021_FH FY 2020_FH  \n",
      "1       28736      27459  \n",
      "2      -18177     -17459  \n",
      "3       10558      10000  \n",
      "4       -2192      -2283  \n",
      "5       -5021      -5489  \n",
      "6         149        329  \n",
      "7        -282       -163  \n",
      "8         -70         42  \n",
      "9         707        831  \n",
      "10       -330       -454  \n",
      "11        429        -69  \n",
      "12       3948       2744  \n",
      "13       -957       -564  \n",
      "14       2991       2179  \n",
      "15        897       -394  \n",
      "16       3888       1786  \n",
      "17          0          0  \n",
      "18        246         52  \n",
      "19       3642       1734  \n",
      "20          0          0  \n",
      "21       3.43       2.52  \n",
      "22       1.12      -0.39  \n",
      "23       4.55       2.13  \n",
      "24          0          0  \n",
      "25       3.39       2.49  \n",
      "26       1.11      -0.38  \n",
      "27       4.49       2.11  \n"
     ]
    }
   ],
   "source": [
    "\n",
    "# Filling out the NAN values in some parts\n",
    "df_CSI = df_CSI.fillna(-1)\n",
    "\n",
    "\n",
    "# Replacing the values of NAN to zero as they are in fact empty values and we do not use them in our analysis\n",
    "df_CSI = df_CSI.replace(-1, 0)\n",
    "\n",
    "print(df_CSI)"
   ]
  },
  {
   "cell_type": "code",
   "execution_count": 53,
   "id": "5faecf61",
   "metadata": {},
   "outputs": [],
   "source": [
    "\n",
    "import numpy as np"
   ]
  },
  {
   "cell_type": "code",
   "execution_count": 54,
   "id": "eb6d2e06",
   "metadata": {},
   "outputs": [
    {
     "name": "stdout",
     "output_type": "stream",
     "text": [
      "                                                items  FY 2021_Q2  FY 2020_Q2  \\\n",
      "1                                             Revenue    14665.00    13784.00   \n",
      "2                                       Cost of sales    -9426.00    -8771.00   \n",
      "3                                        Gross profit     5239.00     5013.00   \n",
      "4                   Research and development expenses    -1128.00    -1159.00   \n",
      "5         Selling and general administrative expenses    -2562.00    -2649.00   \n",
      "6                              Other operating income       27.00       74.00   \n",
      "7                            Other operating expenses     -102.00      -57.00   \n",
      "8   Income (loss) from investments accounted for u...      -29.00       -3.00   \n",
      "9                                     Interest income      348.00      488.00   \n",
      "10                                  Interest expenses     -164.00     -312.00   \n",
      "11              Other financial income (expenses) net      355.00     -107.00   \n",
      "12  Income from continuing operations before incom...     1984.00     1287.00   \n",
      "13                                Income tax expenses     -468.00     -296.00   \n",
      "14                  Income from continuing operations     1516.00      992.00   \n",
      "15  Income (loss) from discontinued operations net...      874.00     -295.00   \n",
      "16                                         Net income     2390.00      697.00   \n",
      "17                                   Attributable to:        0.00        0.00   \n",
      "18                          Non-controlling interests      125.00       44.00   \n",
      "19                         Shareholders of Siemens AG     2265.00      652.00   \n",
      "20                           Basic earnings per share        0.00        0.00   \n",
      "21                  Income from continuing operations        1.73        1.15   \n",
      "22         Income (loss) from discontinued operations        1.09       -0.34   \n",
      "23                                         Net income        2.82        0.80   \n",
      "24                         Diluted earnings per share        0.00        0.00   \n",
      "25                  Income from continuing operations        1.71        1.13   \n",
      "26         Income (loss) from discontinued operations        1.08       -0.34   \n",
      "27                                         Net income        2.79        0.79   \n",
      "\n",
      "    FY 2021_FH  FY 2020_FH  FY 2021_Q2VA  FY 2020_Q2VA  FY 2021_FHVA  \\\n",
      "1     28736.00    27459.00    100.000000    100.000000    100.000000   \n",
      "2    -18177.00   -17459.00    -64.275486    -63.631747    -63.255150   \n",
      "3     10558.00    10000.00     35.724514     36.368253     36.741370   \n",
      "4     -2192.00    -2283.00     -7.691783     -8.408299     -7.628062   \n",
      "5     -5021.00    -5489.00    -17.470167    -19.217934    -17.472856   \n",
      "6       149.00      329.00      0.184112      0.536854      0.518513   \n",
      "7      -282.00     -163.00     -0.695534     -0.413523     -0.981347   \n",
      "8       -70.00       42.00     -0.197750     -0.021764     -0.243597   \n",
      "9       707.00      831.00      2.372997      3.540337      2.460329   \n",
      "10     -330.00     -454.00     -1.118309     -2.263494     -1.148385   \n",
      "11      429.00      -69.00      2.420730     -0.776262      1.492901   \n",
      "12     3948.00     2744.00     13.528810      9.336912     13.738864   \n",
      "13     -957.00     -564.00     -3.191272     -2.147417     -3.330317   \n",
      "14     2991.00     2179.00     10.337538      7.196750     10.408547   \n",
      "15      897.00     -394.00      5.959768     -2.140163      3.121520   \n",
      "16     3888.00     1786.00     16.297307      5.056587     13.530067   \n",
      "17        0.00        0.00      0.000000      0.000000      0.000000   \n",
      "18      246.00       52.00      0.852370      0.319211      0.856069   \n",
      "19     3642.00     1734.00     15.444937      4.730122     12.673998   \n",
      "20        0.00        0.00      0.000000      0.000000      0.000000   \n",
      "21        3.43        2.52      0.011797      0.008343      0.011936   \n",
      "22        1.12       -0.39      0.007433     -0.002467      0.003898   \n",
      "23        4.55        2.13      0.019229      0.005804      0.015834   \n",
      "24        0.00        0.00      0.000000      0.000000      0.000000   \n",
      "25        3.39        2.49      0.011660      0.008198      0.011797   \n",
      "26        1.11       -0.38      0.007364     -0.002467      0.003863   \n",
      "27        4.49        2.11      0.019025      0.005731      0.015625   \n",
      "\n",
      "    FY 2020_FHVA  \n",
      "1     100.000000  \n",
      "2     -63.582068  \n",
      "3      36.417932  \n",
      "4      -8.314214  \n",
      "5     -19.989803  \n",
      "6       1.198150  \n",
      "7      -0.593612  \n",
      "8       0.152955  \n",
      "9       3.026330  \n",
      "10     -1.653374  \n",
      "11     -0.251284  \n",
      "12      9.993081  \n",
      "13     -2.053971  \n",
      "14      7.935467  \n",
      "15     -1.434867  \n",
      "16      6.504243  \n",
      "17      0.000000  \n",
      "18      0.189373  \n",
      "19      6.314869  \n",
      "20      0.000000  \n",
      "21      0.009177  \n",
      "22     -0.001420  \n",
      "23      0.007757  \n",
      "24      0.000000  \n",
      "25      0.009068  \n",
      "26     -0.001384  \n",
      "27      0.007684  \n"
     ]
    }
   ],
   "source": [
    "\n",
    "# Covert the type of data to intiger to be able to calculate the ratios\n",
    "df_CSI['FY 2021_Q2'] = df_CSI['FY 2021_Q2'].astype(float)\n",
    "df_CSI['FY 2020_Q2'] = df_CSI['FY 2020_Q2'].astype(float)\n",
    "df_CSI['FY 2021_FH'] = df_CSI['FY 2021_FH'].astype(float)\n",
    "df_CSI['FY 2020_FH'] = df_CSI['FY 2020_FH'].astype(float)\n",
    "\n",
    "\n",
    "# Adding new columns as a separated group to calculate the ratios based on Net Incomes for every column \n",
    "df_CSI['FY 2021_Q2VA'] = (df_CSI['FY 2021_Q2']/14665.00)*100\n",
    "df_CSI['FY 2020_Q2VA'] = (df_CSI['FY 2020_Q2']/13784.00)*100\n",
    "df_CSI['FY 2021_FHVA'] = (df_CSI['FY 2021_FH']/28736.00)*100\n",
    "df_CSI['FY 2020_FHVA'] = (df_CSI['FY 2020_FH']/27459.00)*100\n",
    "\n",
    "print(df_CSI)"
   ]
  },
  {
   "cell_type": "code",
   "execution_count": 55,
   "id": "39403df3",
   "metadata": {
    "scrolled": false
   },
   "outputs": [],
   "source": [
    "\n",
    "# But after changing the position of columns, it will be in order even when we run the past lines of commands too.\n",
    "df_CSINewC = ['items', 'FY 2020_Q2', 'FY 2020_FH', 'FY 2021_Q2', 'FY 2021_FH', 'FY 2020_Q2VA', 'FY 2020_FHVA',\n",
    "       'FY 2021_Q2VA', 'FY 2021_FHVA']\n",
    "\n",
    "df_CSI = df_CSI[df_CSINewC]"
   ]
  },
  {
   "cell_type": "markdown",
   "id": "18ad4466",
   "metadata": {},
   "source": [
    "### Extracting the Important Values\n",
    "<br/>\n",
    "<font size='3' color='navy'> \n",
    "   \n",
    "some values which are more important to compare are as follows:\n",
    "\n",
    "<br/>\n",
    "<font size='2' color='gray'>\n",
    "These are the fifth important items to be extracted and used:\n",
    "    \n",
    "- Revenue\n",
    "- Gross Profit\n",
    "- Income from continuing operations before income taxes\n",
    "- Income from continuing operations\n",
    "- Net Income\n",
    "   \n",
    " (CFI Team, 2022)"
   ]
  },
  {
   "cell_type": "code",
   "execution_count": 56,
   "id": "e45415cb",
   "metadata": {},
   "outputs": [
    {
     "name": "stdout",
     "output_type": "stream",
     "text": [
      "Index(['items', 'FY 2020_Q2', 'FY 2020_FH', 'FY 2021_Q2', 'FY 2021_FH',\n",
      "       'FY 2020_Q2VA', 'FY 2020_FHVA', 'FY 2021_Q2VA', 'FY 2021_FHVA'],\n",
      "      dtype='object')\n",
      "['items', 'FY 2020_Q2', 'FY 2020_FH', 'FY 2021_Q2', 'FY 2021_FH', 'FY 2020_Q2VA', 'FY 2020_FHVA', 'FY 2021_Q2VA', 'FY 2021_FHVA']\n",
      "['FY 2020_Q2', 'FY 2020_FH', 'FY 2021_Q2', 'FY 2021_FH']\n"
     ]
    }
   ],
   "source": [
    "\n",
    "# To Prepare a list out of the columns' names\n",
    "CSICl = df_CSI.columns\n",
    "print(CSICl)\n",
    "\n",
    "# Converting the index of CSICl to a list\n",
    "CSICl = CSICl.values.tolist()\n",
    "print(CSICl)\n",
    "\n",
    "# removing the first item of the list and the last four items because for the first graph we do not want percentages as they are useless for our barchart\n",
    "CSICl.pop(0)\n",
    "del CSICl[4:8]\n",
    "print(CSICl)"
   ]
  },
  {
   "cell_type": "code",
   "execution_count": 57,
   "id": "7bd6d29d",
   "metadata": {},
   "outputs": [
    {
     "name": "stdout",
     "output_type": "stream",
     "text": [
      "['Revenue', 13784.0, 27459.0, 14665.0, 28736.0, 100.0, 100.0, 100.0, 100.0]\n",
      "[13784.0, 27459.0, 14665.0, 28736.0]\n"
     ]
    }
   ],
   "source": [
    "\n",
    "# Extracting the revenue as a list\n",
    "LCSI0 = df_CSI.iloc[0].values.tolist()\n",
    "print(LCSI0)\n",
    "\n",
    "# Removing the first item because it is the name of the row and the last four items because for the first graph we do not want percentages so not usefull for barchart\n",
    "LCSI0.pop(0)\n",
    "del LCSI0[4:8]\n",
    "print(LCSI0)"
   ]
  },
  {
   "cell_type": "code",
   "execution_count": 58,
   "id": "819ad08a",
   "metadata": {},
   "outputs": [
    {
     "name": "stdout",
     "output_type": "stream",
     "text": [
      "['Gross profit', 5013.0, 10000.0, 5239.0, 10558.0, 36.36825304701103, 36.417932189810266, 35.72451414933515, 36.74136971046771]\n",
      "[5013.0, 10000.0, 5239.0, 10558.0]\n"
     ]
    }
   ],
   "source": [
    "\n",
    "# Extracting the Gross Profit as a list\n",
    "LCSI2 = df_CSI.iloc[2].values.tolist()\n",
    "print(LCSI2)\n",
    "\n",
    "# Removing the first item because it is the name of the row and the last four items because for the first graph we do not want percentages so not usefull for barchart\n",
    "LCSI2.pop(0)\n",
    "del LCSI2[4:8]\n",
    "print(LCSI2)"
   ]
  },
  {
   "cell_type": "code",
   "execution_count": 59,
   "id": "17e58ac7",
   "metadata": {},
   "outputs": [
    {
     "name": "stdout",
     "output_type": "stream",
     "text": [
      "['Income from continuing operations before income taxes', 1287.0, 2744.0, 1984.0, 3948.0, 9.336912362159024, 9.993080592883937, 13.528810092055915, 13.738864142538976]\n",
      "[1287.0, 2744.0, 1984.0, 3948.0]\n"
     ]
    }
   ],
   "source": [
    "\n",
    "# Extracting the Income from continuing operations before income taxes as a list\n",
    "LCSI11 = df_CSI.iloc[11].values.tolist()\n",
    "print(LCSI11)\n",
    "\n",
    "# Removing the first item because it is the name of the row and the last four items because for the first graph we do not want percentages so not usefull for barchart\n",
    "LCSI11.pop(0)\n",
    "del LCSI11[4:8]\n",
    "print(LCSI11)"
   ]
  },
  {
   "cell_type": "code",
   "execution_count": 60,
   "id": "e93041d8",
   "metadata": {},
   "outputs": [
    {
     "name": "stdout",
     "output_type": "stream",
     "text": [
      "['Income from continuing operations', 992.0, 2179.0, 1516.0, 2991.0, 7.196749854904237, 7.935467424159656, 10.337538356631436, 10.408546770601337]\n",
      "[992.0, 2179.0, 1516.0, 2991.0]\n"
     ]
    }
   ],
   "source": [
    "\n",
    "# Extracting the Income from continuing operations as a list\n",
    "LCSI13 = df_CSI.iloc[13].values.tolist()\n",
    "print(LCSI13)\n",
    "\n",
    "# Removing the first item because it is the name of the row and the last four items because for the first graph we do not want percentages sonot usefull for barchart\n",
    "LCSI13.pop(0)\n",
    "del LCSI13[4:8]\n",
    "print(LCSI13)"
   ]
  },
  {
   "cell_type": "code",
   "execution_count": 61,
   "id": "48ea8056",
   "metadata": {},
   "outputs": [
    {
     "name": "stdout",
     "output_type": "stream",
     "text": [
      "['Net income', 697.0, 1786.0, 2390.0, 3888.0, 5.056587347649448, 6.5042426891001135, 16.29730651210365, 13.530066815144767]\n",
      "[697.0, 1786.0, 2390.0, 3888.0]\n"
     ]
    }
   ],
   "source": [
    "# line 16\n",
    "# Extracting the Net Income before income taxes as a list\n",
    "LCSI15 = df_CSI.iloc[15].values.tolist()\n",
    "print(LCSI15)\n",
    "\n",
    "# Removing the first item because it is the name of the row and the last four items because for the first graph we do not want percentages sonot usefull for barchart\n",
    "LCSI15.pop(0)\n",
    "del LCSI15[4:8]\n",
    "print(LCSI15)"
   ]
  },
  {
   "cell_type": "code",
   "execution_count": 62,
   "id": "4fff1bb2",
   "metadata": {},
   "outputs": [],
   "source": [
    "# At this stage the bar chart of the selected lists are going to be plotted.\n",
    "# The extracted data are prepared to plot the graphs. To do that we need a new library.\n",
    "# import the libraries like matplotlib and folium\n",
    "from matplotlib import pyplot as plt\n",
    "from matplotlib.pyplot import figure\n",
    "import numpy as np"
   ]
  },
  {
   "cell_type": "code",
   "execution_count": 63,
   "id": "32aa1ed3",
   "metadata": {
    "scrolled": false
   },
   "outputs": [
    {
     "data": {
      "image/png": "[encoded data removed]",
      "text/plain": [
       "<Figure size 576x288 with 1 Axes>"
      ]
     },
     "metadata": {},
     "output_type": "display_data"
    }
   ],
   "source": [
    "\n",
    "# Choosing the style\n",
    "plt.style.use('seaborn-whitegrid')\n",
    "\n",
    "# Choosing the figure size\n",
    "plt.rcParams['figure.figsize'] = [8, 4]\n",
    "\n",
    "# Providing the list of various periods as X independent variable\n",
    "LCSIX =  CSICl \n",
    "\n",
    "\n",
    "# Other lists from LCSI0 to LCSI26, dependent variables on Y axis, already are ready.\n",
    "x_indices = np.arange(len(CSICl))\n",
    "width = 0.15\n",
    "plt.style.use('Solarize_Light2')\n",
    "\n",
    "\n",
    "plt.bar(x_indices- width*2, LCSI0, color = 'w', width = width, label = 'Revenue')\n",
    "plt.bar(x_indices- width*1, LCSI2, color = 'c', width = width, label = 'Gross Profit')\n",
    "plt.bar(x_indices ,  LCSI11, width = width, color = 'k', label = 'Income from continuing operations before income taxes')\n",
    "plt.bar(x_indices + width*1, LCSI13, color = 'g', width = width, label = 'Income from continuing operations')\n",
    "plt.bar(x_indices + width*2, LCSI15, width = width, color = 'b' ,label = 'Net Income')\n",
    "\n",
    "\n",
    "plt.title('Vertical Analysis Bar Chart of Consolidated Income St.')\n",
    "plt.xlabel('Intervals')\n",
    "plt.ylabel('Million Euro')\n",
    "plt.grid(True)\n",
    "plt.legend()\n",
    "plt.savefig('developers.jpg')"
   ]
  },
  {
   "cell_type": "markdown",
   "id": "d21ed845",
   "metadata": {},
   "source": [
    "## Income Statement Analysis  \n",
    "<br/>\n",
    "<font size='4' color='navy'> \n",
    "   \n",
    "As there are four intervals, there is the analysis to help comparing the outcome horizontally. Also, it is possible to consider the vertical evaluation.\n",
    "<br/>\n",
    "\n",
    "These are the five important items to be considered to interpret.\n",
    "<br/>\n",
    "<font size='3' color='gray'>\n",
    "<br/>  \n",
    "<br/>\n",
    "Revenues are greater, obviously, in the financial half times than those of the quarters, which is noraml as the number of months are more. Also, as this is the same point for the other elements of evaluation, it is meaningful to analyze based on revenue.\n",
    "<br/>  \n",
    "<br/>\n",
    "Gross Profit: Clearly, it is significant that gross profit climbs for FY periods like revenue.\n",
    "<br/>\n",
    "<br/>\n",
    "All three different income items, \"income from continuing operations before income taxes\", \"income from continuing operations\" and \"Net Income\" do not change considerably, however, the \"Net Income\" goes up for the last one, denoting to achieve more profit as time goes forward, while the revenue is not visibly changed. It represents entirely decent managing the cost of production.\n",
    "    \n"
   ]
  },
  {
   "cell_type": "markdown",
   "id": "cc27aa99",
   "metadata": {},
   "source": [
    "# Chapter 2: Siemens Cosolidated Statement of Comprehensive Income\n",
    "\n",
    "<br/>\n",
    "<br/>\n",
    "<br/>\n",
    "<br/>\n",
    "<br/>\n",
    "<br/>"
   ]
  },
  {
   "cell_type": "markdown",
   "id": "b0cbfb29",
   "metadata": {},
   "source": [
    "## Analysis based on the Revenue \n",
    "<br/>\n",
    "<font size='4' color='navy'> \n",
    "   \n",
    "As there are four intervals and for each the other items are computed based on the revenue, the analysis could be considered both vertical and horizontal.\n",
    "<br/>\n",
    "\n",
    "These are the four important items rather than revenue to be interpreted grounded on that:\n",
    "<br/>\n",
    "<font size='3' color='gray'>\n",
    "<br/>    \n",
    "Gross Profit: Clearly, it is significant that gross profit for all periods are the same, about 36 percent of their revenue correspondingly. Therefore, because gross profit, revenue minus COGS: Costs of Goods Sold, is not changing reasonably, the COGS have been managed perfectly to be associated with the whole revenue. Notice the point that COGS is comprised of fixed costs and variable costs, it identifies the key point of great financial administration to be at the stable situation.\n",
    "<br/>\n",
    "<br/>\n",
    "Both \"income from continuing operations before income taxes\" and \"income from continuing operations\" approximately like \"Net Income\" increase for the last two intervals, especially the \"Net Income\" in the third one, signifying to achieve more profit ratios while controlling the costs.\n",
    "    \n"
   ]
  },
  {
   "cell_type": "markdown",
   "id": "4703ac24",
   "metadata": {},
   "source": [
    "### Horizontal Analysis, Basic Format.\n",
    "<br/>\n",
    "<font size='3' color='navy'> \n",
    "   \n",
    "Basic Information\n",
    "\n",
    "<br/>\n",
    "<font size='2' color='gray'>\n",
    "Now it’s time to look at a different way to evaluate the income statement. \n",
    "With horizontal analysis, we look at the year-over-year (YoY) change in each line item.\n",
    "To do the horizental analysis based on \"Total comprehensive income\" and \"Shareholders of Siemens AG\" we are going to look at their timely horizontal graph.\n",
    "    \n",
    " (CFI Team, 2022)"
   ]
  },
  {
   "cell_type": "code",
   "execution_count": 64,
   "id": "2f2daec0",
   "metadata": {
    "scrolled": true
   },
   "outputs": [
    {
     "name": "stdout",
     "output_type": "stream",
     "text": [
      "      Consolidated Statements of Comprehensive Income  Unnamed: 1 Unnamed: 2  \\\n",
      "0                                                 NaN         NaN        NaN   \n",
      "1                                                 NaN         NaN        NaN   \n",
      "2                                                 NaN         NaN         Q2   \n",
      "3                                                 NaN         NaN        NaN   \n",
      "4                                  (in millions of €)         NaN    FY 2021   \n",
      "5                                          Net income         NaN       2390   \n",
      "6                                                 NaN         NaN        NaN   \n",
      "7             Remeasurements of defined benefit plans         NaN        918   \n",
      "8                         therein: Income tax effects         NaN       -311   \n",
      "9                Remeasurements of equity instruments         NaN         18   \n",
      "10                        therein: Income tax effects         NaN         18   \n",
      "11  Income (loss) from investments accounted for u...         NaN         39   \n",
      "12  Items that will not be reclassified to profit ...         NaN        975   \n",
      "13                                                NaN         NaN        NaN   \n",
      "14                   Currency translation differences         NaN       1529   \n",
      "15                   Derivative financial instruments         NaN        101   \n",
      "16                        therein: Income tax effects         NaN        -26   \n",
      "17  Income (loss) from investments accounted for u...         NaN         28   \n",
      "18  Items that may be reclassified subsequently to...         NaN       1659   \n",
      "19    Other comprehensive income, net of income taxes         NaN       2634   \n",
      "20                                                NaN         NaN        NaN   \n",
      "21                         Total comprehensive income         NaN       5024   \n",
      "22                                                NaN         NaN        NaN   \n",
      "23                                   Attributable to:         NaN        NaN   \n",
      "24                          Non-controlling interests         NaN        238   \n",
      "25                         Shareholders of Siemens AG         NaN       4786   \n",
      "\n",
      "   Unnamed: 3  Unnamed: 4 Unnamed: 5  \n",
      "0         NaN         NaN        NaN  \n",
      "1         NaN         NaN        NaN  \n",
      "2         NaN  First half        NaN  \n",
      "3         NaN         NaN        NaN  \n",
      "4     FY 2020     FY 2021    FY 2020  \n",
      "5         697        3888       1786  \n",
      "6         NaN         NaN        NaN  \n",
      "7          41        1224        363  \n",
      "8        -250         -56       -416  \n",
      "9           2          16         17  \n",
      "10        NaN         NaN         -3  \n",
      "11        NaN          44         -4  \n",
      "12         42        1285        376  \n",
      "13        NaN         NaN        NaN  \n",
      "14       -254         612      -1100  \n",
      "15        -45        -170        -18  \n",
      "16         20          53        NaN  \n",
      "17        -42          19        -33  \n",
      "18       -340         462      -1152  \n",
      "19       -298        1746       -776  \n",
      "20        NaN         NaN        NaN  \n",
      "21        399        5633       1010  \n",
      "22        NaN         NaN        NaN  \n",
      "23        NaN         NaN        NaN  \n",
      "24         58         197         10  \n",
      "25        341        5437       1000  \n"
     ]
    }
   ],
   "source": [
    "df_CSIxl = pd.read_excel(\"data/Siemens Cosolidated Statement of Comprehensive Income.xlsx\") # (Siemens A, 2022)\n",
    "print(df_CSIxl)"
   ]
  },
  {
   "cell_type": "code",
   "execution_count": 65,
   "id": "903709fe",
   "metadata": {},
   "outputs": [
    {
     "name": "stdout",
     "output_type": "stream",
     "text": [
      "                                                items FY 2021_Q2 FY 2020_Q2  \\\n",
      "5                                          Net income       2390        697   \n",
      "6                                                 NaN        NaN        NaN   \n",
      "7             Remeasurements of defined benefit plans        918         41   \n",
      "8                         therein: Income tax effects       -311       -250   \n",
      "9                Remeasurements of equity instruments         18          2   \n",
      "10                        therein: Income tax effects         18        NaN   \n",
      "11  Income (loss) from investments accounted for u...         39        NaN   \n",
      "12  Items that will not be reclassified to profit ...        975         42   \n",
      "13                                                NaN        NaN        NaN   \n",
      "14                   Currency translation differences       1529       -254   \n",
      "15                   Derivative financial instruments        101        -45   \n",
      "16                        therein: Income tax effects        -26         20   \n",
      "17  Income (loss) from investments accounted for u...         28        -42   \n",
      "18  Items that may be reclassified subsequently to...       1659       -340   \n",
      "19    Other comprehensive income, net of income taxes       2634       -298   \n",
      "20                                                NaN        NaN        NaN   \n",
      "21                         Total comprehensive income       5024        399   \n",
      "22                                                NaN        NaN        NaN   \n",
      "23                                   Attributable to:        NaN        NaN   \n",
      "24                          Non-controlling interests        238         58   \n",
      "25                         Shareholders of Siemens AG       4786        341   \n",
      "\n",
      "   FY 2021_FH FY 2020_FH  \n",
      "5        3888       1786  \n",
      "6         NaN        NaN  \n",
      "7        1224        363  \n",
      "8         -56       -416  \n",
      "9          16         17  \n",
      "10        NaN         -3  \n",
      "11         44         -4  \n",
      "12       1285        376  \n",
      "13        NaN        NaN  \n",
      "14        612      -1100  \n",
      "15       -170        -18  \n",
      "16         53        NaN  \n",
      "17         19        -33  \n",
      "18        462      -1152  \n",
      "19       1746       -776  \n",
      "20        NaN        NaN  \n",
      "21       5633       1010  \n",
      "22        NaN        NaN  \n",
      "23        NaN        NaN  \n",
      "24        197         10  \n",
      "25       5437       1000  \n"
     ]
    }
   ],
   "source": [
    "# Some Corrections \n",
    "# Removing the first Column after items, \"Unnamed: 1\", as it is additional without data because originally in Excel table this is an empty column.\n",
    "# Substitute the names of columns with the real names that are in the fourth_indexed row. Then delete the extra rows.\n",
    "# The reason for this problem is from the fact that normally tables in Excel format of financial statements have some first rows empty with the very first row as the title.\n",
    "df_CSIxl = df_CSIxl.drop(labels=[\"Unnamed: 1\"], axis=1, inplace=False)\n",
    "df_CSIxl = df_CSIxl.rename(columns={'Consolidated Statements of Comprehensive Income':'items', 'Unnamed: 2':'FY 2021_Q2', 'Unnamed: 3':'FY 2020_Q2', 'Unnamed: 4':'FY 2021_FH', 'Unnamed: 5':'FY 2020_FH'}, inplace=False)\n",
    "df_CSIxl = df_CSIxl.drop(labels=range(0,5), axis=0, inplace=False)\n",
    "\n",
    "print(df_CSIxl)\n",
    "# The second and third columns are related to the second quarter of the years, called Q2.\n",
    "# The fourth and fifth columns are related to the first half of the years, called FH."
   ]
  },
  {
   "cell_type": "code",
   "execution_count": 66,
   "id": "cc11a0e7",
   "metadata": {},
   "outputs": [
    {
     "name": "stdout",
     "output_type": "stream",
     "text": [
      "Index(['items', 'FY 2021_Q2', 'FY 2020_Q2', 'FY 2021_FH', 'FY 2020_FH'], dtype='object')\n",
      "['items', 'FY 2021_Q2', 'FY 2020_Q2', 'FY 2021_FH', 'FY 2020_FH']\n",
      "['FY 2021_Q2', 'FY 2020_Q2', 'FY 2021_FH', 'FY 2020_FH']\n"
     ]
    }
   ],
   "source": [
    "\n",
    "# Extracting the list of columns' names\n",
    "# To see the name of columns\n",
    "df_CSIxl.columns\n",
    "\n",
    "# To Prepare a list out of the columns' names\n",
    "CSCIC = df_CSIxl.columns\n",
    "print(CSCIC)\n",
    "\n",
    "# Converting the index of CSICl to a list\n",
    "CSCIC = CSCIC.values.tolist()\n",
    "print(CSCIC)\n",
    "\n",
    "# removing the first item of the list and the last four items because for the first graph we do not want percentages as they are useless for our barchart\n",
    "CSCIC.pop(0)\n",
    "\n",
    "print(CSCIC)"
   ]
  },
  {
   "cell_type": "code",
   "execution_count": 67,
   "id": "b7d1fd76",
   "metadata": {},
   "outputs": [
    {
     "name": "stdout",
     "output_type": "stream",
     "text": [
      "['Total comprehensive income', 5024, 399, 5633, 1010]\n",
      "[5024, 399, 5633, 1010]\n",
      "[]\n",
      "['Shareholders of Siemens AG', 4786, 341, 5437, 1000]\n",
      "[4786, 341, 5437, 1000]\n",
      "[]\n"
     ]
    }
   ],
   "source": [
    "\n",
    "# Extracting the data for both mentioned rows from the last table\n",
    "# TCIL: Total Comprehensive Income List\n",
    "TCIL = df_CSIxl.iloc[16].values.tolist()\n",
    "print(TCIL)\n",
    "TCIL1 = df_CSIxl.iloc[16].values.tolist()\n",
    "TCIL1.pop(0)\n",
    "del TCIL1[4:8]\n",
    "print(TCIL1)\n",
    "TCIL2 = df_CSIxl.iloc[16].values.tolist()\n",
    "TCIL2.pop(0)\n",
    "del TCIL2[0:4]\n",
    "print(TCIL2)\n",
    "\n",
    "\n",
    "# SSAGL: Shareholders of Siemens AG List\n",
    "SSAGL = df_CSIxl.iloc[20].values.tolist()\n",
    "print(SSAGL)\n",
    "SSAGL1 = df_CSIxl.iloc[20].values.tolist()\n",
    "SSAGL1.pop(0)\n",
    "del SSAGL1[4:8]\n",
    "print(SSAGL1)\n",
    "SSAGL2 = df_CSIxl.iloc[20].values.tolist()\n",
    "SSAGL2.pop(0)\n",
    "del SSAGL2[0:4]\n",
    "print(SSAGL2)"
   ]
  },
  {
   "cell_type": "code",
   "execution_count": 68,
   "id": "932d314f",
   "metadata": {
    "scrolled": true
   },
   "outputs": [
    {
     "name": "stdout",
     "output_type": "stream",
     "text": [
      "['FY 2021_Q2', 'FY 2020_Q2', 'FY 2021_FH', 'FY 2020_FH']\n"
     ]
    },
    {
     "data": {
      "text/plain": [
       "<matplotlib.legend.Legend at 0x1a9a5e6e160>"
      ]
     },
     "execution_count": 68,
     "metadata": {},
     "output_type": "execute_result"
    },
    {
     "data": {
      "text/plain": [
       "<Figure size 750x500 with 0 Axes>"
      ]
     },
     "metadata": {},
     "output_type": "display_data"
    },
    {
     "data": {
      "image/png": "[encoded data removed]",
      "text/plain": [
       "<Figure size 864x432 with 1 Axes>"
      ]
     },
     "metadata": {},
     "output_type": "display_data"
    }
   ],
   "source": [
    "# Providing the graph for two items of Siemens Cosolidated Statement of Comprehensive Income.xlsx, TCIL: Total Comprehensive Income List, and SSAGL: Shareholders of Siemens AG List\n",
    "\n",
    "\n",
    "# Choosing the figure size\n",
    "figure(figsize=(3,2), dpi=250)\n",
    "ax = plt.subplots(figsize=(12, 6))\n",
    "\n",
    "\n",
    "# The list of various periods as X independent variable\n",
    "del CSCIC[4:8]\n",
    "print(CSCIC)\n",
    "\n",
    "\n",
    "# Other lists, CSCIC, TCIL1,  TCIL2, SSAGL1, and SSAGL2, dependent variables on Y axis, already are ready.\n",
    "plt.plot(CSCIC, TCIL1,  color = 'g', label = 'Total Comprehensive Income List')\n",
    "plt.plot(CSCIC, SSAGL1, color = 'c', label = 'Shareholders of Siemens AG List')\n",
    "\n",
    "\n",
    "plt.title('Siemens Cosolidated Statement of Comprehensive Income', size=12)\n",
    "plt.xlabel('Intervals', size=12)\n",
    "plt.ylabel('Million Euro', size=12)\n",
    "plt.grid(True)\n",
    "plt.legend()"
   ]
  },
  {
   "cell_type": "code",
   "execution_count": 81,
   "id": "bd51c41c",
   "metadata": {
    "scrolled": true
   },
   "outputs": [
    {
     "name": "stdout",
     "output_type": "stream",
     "text": [
      "399\n",
      "5633\n"
     ]
    }
   ],
   "source": [
    "# Operating the min, max and mean of data to compare from another view between four years\n",
    "print(min(TCIL1))\n",
    "print(max(TCIL1))\n",
    "# mean(TCIL1)"
   ]
  },
  {
   "cell_type": "code",
   "execution_count": 84,
   "id": "0f0c1feb",
   "metadata": {},
   "outputs": [],
   "source": [
    "import statistics"
   ]
  },
  {
   "cell_type": "code",
   "execution_count": 86,
   "id": "ffb3a101",
   "metadata": {},
   "outputs": [
    {
     "data": {
      "text/plain": [
       "3016.5"
      ]
     },
     "execution_count": 86,
     "metadata": {},
     "output_type": "execute_result"
    }
   ],
   "source": [
    "statistics.mean(TCIL1)"
   ]
  },
  {
   "cell_type": "markdown",
   "id": "15ba60ce",
   "metadata": {},
   "source": [
    "## Analysis the Cosolidated Statement of Comprehensive Income\n",
    "<br/>\n",
    "<font size='4' color='navy'> \n",
    "These are the two important items to assess\n",
    "<br/>\n",
    "<font size='3' color='gray'>\n",
    "\n",
    "<br/>\n",
    "<br/>\n",
    "Both \"Total comprehensive income\" and \"Shareholders of Siemens AG\" rise sharply, especially in the meantime, showing the great financial situation of the all enterprise, containing the parent and subsidiaries, as it is the comprehensive statement.\n",
    "    "
   ]
  },
  {
   "cell_type": "markdown",
   "id": "9f17998f",
   "metadata": {},
   "source": [
    "# Chapter 3: The Vertical Analysis by Pie Chart in SoFP\n",
    "\n",
    "<br/>\n",
    "<br/>\n",
    "<br/>\n",
    "<br/>\n",
    "<br/>\n",
    "<br/>"
   ]
  },
  {
   "cell_type": "markdown",
   "id": "90ac2cb3",
   "metadata": {},
   "source": [
    "### The Vertical Analysis by Pie Chart in SoFP\n",
    "<br/>\n",
    "<font size='3' color='navy'> \n",
    "   \n",
    "The comparison in one single year, thorugh its items.\n",
    "<br/>\n",
    "<font size='2' color='gray'>\n",
    "To do so, we need the comparison between five main factors as above from one specific year. However, we are going to perform the process for all periods separately."
   ]
  },
  {
   "cell_type": "code",
   "execution_count": 69,
   "id": "0d92cbf7",
   "metadata": {
    "scrolled": false
   },
   "outputs": [
    {
     "name": "stdout",
     "output_type": "stream",
     "text": [
      "            Combined Statements of Financial Position         Unnamed: 1  \\\n",
      "0                                                 NaN                NaN   \n",
      "1                                                 NaN  Annual financials   \n",
      "2                                               In €m               FY17   \n",
      "3                                              Assets                NaN   \n",
      "4                          Cash and cash equivalents                1850   \n",
      "5                                Trade receivables1)                4679   \n",
      "6                     Other current financial assets                 588   \n",
      "7                                    Contract assets                4293   \n",
      "8                     Receivables from Siemens Group                6324   \n",
      "9                                        Inventories                7350   \n",
      "10                         Current income tax assets                 462   \n",
      "11                              Other current assets                 776   \n",
      "12            Assets classified as held for disposal                 147   \n",
      "13                              Total current assets               26470   \n",
      "14                                          Goodwill                9541   \n",
      "15                           Other intangible assets                5449   \n",
      "16                     Property, plant and equipment                3178   \n",
      "17  Investments accounted for using the equity met...                933   \n",
      "18                            Other financial assets                 523   \n",
      "19              Other receivables from Siemens Group                   0   \n",
      "20                               Deferred tax assets                 833   \n",
      "21                                      Other assets                 365   \n",
      "22                          Total non-current assets               20821   \n",
      "23                                      Total assets               47290   \n",
      "24                                                NaN                NaN   \n",
      "25                             Liabilities and equity                NaN   \n",
      "26  Short-term debt and current maturities of long...                819   \n",
      "27                                    Trade payables                4175   \n",
      "28               Other current financial liabilities                 287   \n",
      "29                          Payables to Siemens Group               2624   \n",
      "30                              Contract liabilities                8351   \n",
      "31                                Current provisions                2246   \n",
      "32                    Current income tax liabilities                 583   \n",
      "33                         Other current liabilities                3085   \n",
      "34  Liabilities associated with assets classified ...                 50   \n",
      "35                         Total current liabilities               22221   \n",
      "36                                    Long-term debt                 505   \n",
      "37   Provisions for pensions and similar obligations                1692   \n",
      "38                          Deferred tax liabilities                1904   \n",
      "39                                        Provisions                2664   \n",
      "40                       Other financial liabilities                 418   \n",
      "41                                 Other liabilities                 612   \n",
      "42                Other liabilities to Siemens Group                5957   \n",
      "43                     Total non-current liabilities               13752   \n",
      "44                                 Total liabilities               35973   \n",
      "45                                      Total equity               11318   \n",
      "46                       Total liabilities and equity              47290   \n",
      "\n",
      "   Unnamed: 2 Unnamed: 3  Unnamed: 4           Unnamed: 5           Unnamed: 6  \n",
      "0         NaN        NaN         NaN                  NaN                  NaN  \n",
      "1         NaN        NaN         NaN   Interim financials                  NaN  \n",
      "2        FY18       FY19         NaN  As of June 30, 2019  As of June 30, 2020  \n",
      "3         NaN        NaN         NaN                  NaN                  NaN  \n",
      "4        2544       1871         NaN                  NaN                 2352  \n",
      "5        5405       5097         NaN                  NaN                 4205  \n",
      "6         454        730         NaN                  NaN                  529  \n",
      "7        4593       5230         NaN                  NaN                 4805  \n",
      "8        5138       3402         NaN                  NaN                 3894  \n",
      "9        6607       7148         NaN                  NaN                 7250  \n",
      "10        431        329         NaN                  NaN                  432  \n",
      "11        833       1093         NaN                  NaN                 1023  \n",
      "12          0         16         NaN                  NaN                    0  \n",
      "13      26006      24917         NaN                  NaN                24491  \n",
      "14       9462       9815         NaN                  NaN                 9593  \n",
      "15       4967       4743         NaN                  NaN                 4016  \n",
      "16       3085       3275         NaN                  NaN                 4790  \n",
      "17        784        818         NaN                  NaN                  762  \n",
      "18        427        437         NaN                  NaN                  502  \n",
      "19          3          3         NaN                  NaN                    0  \n",
      "20        686        742         NaN                  NaN                 1052  \n",
      "21        342        291         NaN                  NaN                  217  \n",
      "22      19757      20124         NaN                  NaN                20933  \n",
      "23      45763      45041         NaN                  NaN                45424  \n",
      "24        NaN        NaN         NaN                  NaN                  NaN  \n",
      "25        NaN        NaN         NaN                  NaN                  NaN  \n",
      "26       1000        359         NaN                  NaN                  787  \n",
      "27       4303       4698         NaN                  NaN                 4595  \n",
      "28        375        614         NaN                  NaN                  483  \n",
      "29       3958       2960         NaN                  NaN                  979  \n",
      "30       8077       9337         NaN                  NaN                10417  \n",
      "31       2089       1872         NaN                  NaN                 1678  \n",
      "32        373        372         NaN                  NaN                  489  \n",
      "33       3244       3267         NaN                  NaN                 3004  \n",
      "34          0          8         NaN                  NaN                    0  \n",
      "35      23418      23487         NaN                  NaN                22432  \n",
      "36        877        547         NaN                  NaN                 1690  \n",
      "37       1622       1960         NaN                  NaN                 1095  \n",
      "38       1195       1102         NaN                  NaN                  586  \n",
      "39       2400       2072         NaN                  NaN                 2158  \n",
      "40        359        447         NaN                  NaN                  543  \n",
      "41        615        729         NaN                  NaN                  669  \n",
      "42       4576       1608         NaN                  NaN                    0  \n",
      "43      11644       8465         NaN                  NaN                 6741  \n",
      "44      35062      31952         NaN                  NaN                29173  \n",
      "45      10701      13089         NaN                  NaN                16250  \n",
      "46      45763      45041         NaN                  NaN                45424  \n"
     ]
    }
   ],
   "source": [
    "# Reading the file as df_SCSFP:dataframe for Siemens Consolidated Statements of Financial Position\n",
    "df_SCSFP = pd.read_excel('data/Siemens Consolidated Statements of Financial Position.xlsx')\n",
    "print(df_SCSFP)"
   ]
  },
  {
   "cell_type": "code",
   "execution_count": 70,
   "id": "b885d0f0",
   "metadata": {},
   "outputs": [
    {
     "name": "stdout",
     "output_type": "stream",
     "text": [
      "                                                items FY 2017 FY 2018 FY 2019  \\\n",
      "3                                              Assets     NaN     NaN     NaN   \n",
      "4                          Cash and cash equivalents     1850    2544    1871   \n",
      "5                                Trade receivables1)     4679    5405    5097   \n",
      "6                     Other current financial assets      588     454     730   \n",
      "7                                    Contract assets     4293    4593    5230   \n",
      "8                     Receivables from Siemens Group     6324    5138    3402   \n",
      "9                                        Inventories     7350    6607    7148   \n",
      "10                         Current income tax assets      462     431     329   \n",
      "11                              Other current assets      776     833    1093   \n",
      "12            Assets classified as held for disposal      147       0      16   \n",
      "13                              Total current assets    26470   26006   24917   \n",
      "14                                          Goodwill     9541    9462    9815   \n",
      "15                           Other intangible assets     5449    4967    4743   \n",
      "16                     Property, plant and equipment     3178    3085    3275   \n",
      "17  Investments accounted for using the equity met...     933     784     818   \n",
      "18                            Other financial assets      523     427     437   \n",
      "19              Other receivables from Siemens Group        0       3       3   \n",
      "20                               Deferred tax assets      833     686     742   \n",
      "21                                      Other assets      365     342     291   \n",
      "22                          Total non-current assets    20821   19757   20124   \n",
      "23                                      Total assets    47290   45763   45041   \n",
      "24                                                NaN     NaN     NaN     NaN   \n",
      "25                             Liabilities and equity     NaN     NaN     NaN   \n",
      "26  Short-term debt and current maturities of long...     819    1000     359   \n",
      "27                                    Trade payables     4175    4303    4698   \n",
      "28               Other current financial liabilities      287     375     614   \n",
      "29                          Payables to Siemens Group    2624    3958    2960   \n",
      "30                              Contract liabilities     8351    8077    9337   \n",
      "31                                Current provisions     2246    2089    1872   \n",
      "32                    Current income tax liabilities      583     373     372   \n",
      "33                         Other current liabilities     3085    3244    3267   \n",
      "34  Liabilities associated with assets classified ...      50       0       8   \n",
      "35                         Total current liabilities    22221   23418   23487   \n",
      "36                                    Long-term debt      505     877     547   \n",
      "37   Provisions for pensions and similar obligations     1692    1622    1960   \n",
      "38                          Deferred tax liabilities     1904    1195    1102   \n",
      "39                                        Provisions     2664    2400    2072   \n",
      "40                       Other financial liabilities      418     359     447   \n",
      "41                                 Other liabilities      612     615     729   \n",
      "42                Other liabilities to Siemens Group     5957    4576    1608   \n",
      "43                     Total non-current liabilities    13752   11644    8465   \n",
      "44                                 Total liabilities    35973   35062   31952   \n",
      "45                                      Total equity    11318   10701   13089   \n",
      "46                       Total liabilities and equity   47290   45763   45041   \n",
      "\n",
      "   FY 2020  \n",
      "3      NaN  \n",
      "4     2352  \n",
      "5     4205  \n",
      "6      529  \n",
      "7     4805  \n",
      "8     3894  \n",
      "9     7250  \n",
      "10     432  \n",
      "11    1023  \n",
      "12       0  \n",
      "13   24491  \n",
      "14    9593  \n",
      "15    4016  \n",
      "16    4790  \n",
      "17     762  \n",
      "18     502  \n",
      "19       0  \n",
      "20    1052  \n",
      "21     217  \n",
      "22   20933  \n",
      "23   45424  \n",
      "24     NaN  \n",
      "25     NaN  \n",
      "26     787  \n",
      "27    4595  \n",
      "28     483  \n",
      "29     979  \n",
      "30   10417  \n",
      "31    1678  \n",
      "32     489  \n",
      "33    3004  \n",
      "34       0  \n",
      "35   22432  \n",
      "36    1690  \n",
      "37    1095  \n",
      "38     586  \n",
      "39    2158  \n",
      "40     543  \n",
      "41     669  \n",
      "42       0  \n",
      "43    6741  \n",
      "44   29173  \n",
      "45   16250  \n",
      "46   45424  \n"
     ]
    }
   ],
   "source": [
    "# Some Corrections \n",
    "# Removing the fifth and sixth Columns, \"Unnamed: 4\" and \"Unnamed: 5\" as they are additional without data because originally in Excel table these are the empty columns.\n",
    "# Substitute the names of columns with the real names that are in the fourth_indexed row. Then delete the extra rows.\n",
    "# The reason for this problem is from the fact that normally tables in Excel format of financial statements have some first rows empty with the very first row as the title.\n",
    "df_SCSFP = df_SCSFP.drop(labels=[\"Unnamed: 4\", \"Unnamed: 5\"], axis=1, inplace=False)\n",
    "df_SCSFP = df_SCSFP.rename(columns={'Combined Statements of Financial Position':'items', 'Unnamed: 1':'FY 2017', 'Unnamed: 2':'FY 2018', 'Unnamed: 3':'FY 2019', 'Unnamed: 6':'FY 2020'}, inplace=False)\n",
    "df_SCSFP = df_SCSFP.drop(labels=range(0,3), axis=0, inplace=False)\n",
    "\n",
    "print(df_SCSFP)"
   ]
  },
  {
   "cell_type": "code",
   "execution_count": 71,
   "id": "067b0af5",
   "metadata": {},
   "outputs": [
    {
     "name": "stdout",
     "output_type": "stream",
     "text": [
      "[26470, 20821, 22221, 13752, 11318]\n"
     ]
    }
   ],
   "source": [
    "# By the code below the data is extracted from one specific column,\n",
    "FY17 = df_SCSFP.loc[(13,22,35,43,45), ['FY 2017']].values.tolist()\n",
    "FY17 = [ u for x in FY17 for u in x]\n",
    "print(FY17)"
   ]
  },
  {
   "cell_type": "code",
   "execution_count": 72,
   "id": "4a86eba3",
   "metadata": {},
   "outputs": [],
   "source": [
    "SCSFPL = ['Total current assets ', 'Total non-current assets ', 'Total current liabilities ', 'Total non-current liabilities ', 'Total equity ']"
   ]
  },
  {
   "cell_type": "code",
   "execution_count": 73,
   "id": "06acac1e",
   "metadata": {
    "scrolled": true
   },
   "outputs": [
    {
     "data": {
      "image/png": "[encoded data removed]",
      "text/plain": [
       "<Figure size 864x576 with 1 Axes>"
      ]
     },
     "metadata": {},
     "output_type": "display_data"
    }
   ],
   "source": [
    "\n",
    "#The pie chart for the year of 2017\n",
    "# Choosing the figure size\n",
    "plt.rcParams['figure.figsize'] = [12, 8]\n",
    "\n",
    "\n",
    "plt.pie(FY17, labels= SCSFPL,autopct='%1.2f%%')\n",
    "\n",
    "\n",
    "plt.title('The Pie Chart SoFP 2017')\n",
    "plt.axis('equal')\n",
    "plt.show()"
   ]
  },
  {
   "cell_type": "markdown",
   "id": "6fcd83d6",
   "metadata": {},
   "source": [
    "Total current assets with 28 percent is the larger portion, while the total equity is the least with 12 percent. It means a highly strong financial position in terms of having the working capital, while the 12% for equity shows the less ratio of shareholders compared to other types of financing methods."
   ]
  },
  {
   "cell_type": "markdown",
   "id": "7c48fb3f",
   "metadata": {},
   "source": [
    "With a bit alteration in weights, this chart is almaost the same as the first one."
   ]
  },
  {
   "cell_type": "markdown",
   "id": "18deefe0",
   "metadata": {},
   "source": [
    "This pie chart shows more equity which represents a shift in financing from risky resources to less risky ones. "
   ]
  },
  {
   "cell_type": "markdown",
   "id": "f134ec46",
   "metadata": {},
   "source": [
    "The highest portion of equity in comparison to the other charts defines the lowest riskiness in providing the financial resources, while the lowest percentage of total non-current liabilities approves it, because it means that some parts of long-term debts are paid by use of investment market financial resources. "
   ]
  },
  {
   "cell_type": "markdown",
   "id": "f8954096",
   "metadata": {},
   "source": [
    "### Reference List\n",
    "\n",
    "<br/>\n",
    "<br/>\n",
    "    \n",
    "<font size='2' color='gray'> \n",
    "    \n",
    " -CFI Team, 2022. Financial Controls. [online] Corporate Finance Institute. Available at: <https://corporatefinanceinstitute.com/resources/knowledge/finance/financial-controls/> [Accessed 26 August 2022].<br/>\n",
    "\n",
    " -Hotz, N., 2018. What is CRISP DM? Data Science Process Alliance. Available at: <https://www.datascience-pm.com/crisp-dm-2/> [Accessed 21 August 2022].<br/>\n",
    "    \n",
    " -ibm, 2022. Predictive Analytics | IBM. [online] Available at: <https://www.ibm.com/analytics/predictive-analytics> [Accessed 20 August 2022].<br/>\n",
    "    \n",
    " -Siemens, 2022. Siemens Aktiengesellschaft (SIE.DE) Aktienpreis, Nachrichten, Kurs und Verlauf – Yahoo Finanzen. [online] Available at: <https://de.finance.yahoo.com/quote/SIE.DE/> [Accessed 2 July 2022].<br/>\n",
    "    \n",
    " -Siemens A, 2022. Investor Relations | Company | Siemens Global. [online] Available at: <https://new.siemens.com/global/en/company/investor-relations.html> [Accessed 20 August 2022].<br/>\n",
    "    "
   ]
  },
  {
   "cell_type": "code",
   "execution_count": null,
   "id": "32087205",
   "metadata": {},
   "outputs": [],
   "source": []
  }
 ],
 "metadata": {
  "kernelspec": {
   "display_name": "Python 3 (ipykernel)",
   "language": "python",
   "name": "python3"
  },
  "language_info": {
   "codemirror_mode": {
    "name": "ipython",
    "version": 3
   },
   "file_extension": ".py",
   "mimetype": "text/x-python",
   "name": "python",
   "nbconvert_exporter": "python",
   "pygments_lexer": "ipython3",
   "version": "3.9.12"
  }
 },
 "nbformat": 4,
 "nbformat_minor": 5
}
